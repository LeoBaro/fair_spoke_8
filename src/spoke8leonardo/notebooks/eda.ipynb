{
 "cells": [
  {
   "cell_type": "code",
   "execution_count": 1,
   "metadata": {},
   "outputs": [],
   "source": [
    "from datasets import load_dataset\n",
    "from tqdm.notebook import tqdm\n",
    "from pathlib import Path\n",
    "import polars as pl\n",
    "\n",
    "pl.Config(fmt_str_lengths=1000, tbl_width_chars=1000)"
   ]
  },
  {
   "cell_type": "code",
   "execution_count": 2,
   "metadata": {},
   "outputs": [],
   "source": [
    "ds = load_dataset(\"yuvalkirstain/laion-hd-subset\", split=None)"
   ]
  },
  {
   "cell_type": "code",
   "execution_count": 122,
   "metadata": {},
   "outputs": [
    {
     "name": "stderr",
     "output_type": "stream",
     "text": [
      "[nltk_data] Downloading package punkt to /home/fbernardi/nltk_data...\n",
      "[nltk_data]   Package punkt is already up-to-date!\n",
      "[nltk_data] Downloading package stopwords to\n",
      "[nltk_data]     /home/fbernardi/nltk_data...\n",
      "[nltk_data]   Package stopwords is already up-to-date!\n",
      "[nltk_data] Downloading package wordnet to\n",
      "[nltk_data]     /home/fbernardi/nltk_data...\n",
      "[nltk_data]   Package wordnet is already up-to-date!\n"
     ]
    }
   ],
   "source": [
    "import re\n",
    "import nltk\n",
    "nltk.download('punkt')\n",
    "nltk.download('stopwords')\n",
    "nltk.download('wordnet')\n",
    "from nltk.corpus import stopwords\n",
    "from nltk.stem import WordNetLemmatizer\n",
    "\n",
    "def clean_text(text):\n",
    "    # 1) Lowercase\n",
    "    text = text.lower()\n",
    "    \n",
    "    # 2) Remove punctuation\n",
    "    text = re.sub(r'[^\\w\\s]', '', text)\n",
    "\n",
    "    # 2.5) Remove non-ascii characters\n",
    "    text = text.encode(\"ascii\", \"ignore\").decode()\n",
    "    \n",
    "    # 3) Remove numbers\n",
    "    text = re.sub(r'\\d+', '', text)\n",
    "    \n",
    "    # 4) Tokenize\n",
    "    tokens = nltk.word_tokenize(text)\n",
    "    \n",
    "    # 5) Remove stopwords\n",
    "    stop_words = set(stopwords.words('english'))\n",
    "    tokens = [w for w in tokens if w not in stop_words]\n",
    "    \n",
    "    # 6) Lemmatize\n",
    "    lemmatizer = WordNetLemmatizer()\n",
    "    tokens = [lemmatizer.lemmatize(w) for w in tokens]\n",
    "    \n",
    "    # 7) Remove extra whitespace / rejoin if desired\n",
    "    cleaned_text = \" \".join(tokens)\n",
    "    \n",
    "    return cleaned_text\n",
    "\n",
    "# # Example usage\n",
    "# raw_text = \"Hello there!!! This is a sample text, containing numbers like 123 and punctuation.\"\n",
    "# cleaned = clean_text(raw_text)\n",
    "# print(cleaned)\n",
    "# # Output might be: \"hello sample text containing number like punctuation\""
   ]
  },
  {
   "cell_type": "code",
   "execution_count": 119,
   "metadata": {},
   "outputs": [],
   "source": [
    "def filter_captions(caption, min_words=2, min_chars=5):\n",
    "    # Strip leading/trailing whitespace\n",
    "    cap = caption.strip()\n",
    "    \n",
    "    # Split the caption into words\n",
    "    words = cap.split()\n",
    "    \n",
    "    # Count characters (excluding leading/trailing whitespace)\n",
    "    char_count = len(cap)\n",
    "    \n",
    "    # Check conditions\n",
    "    condition =  len(words) > min_words and char_count > min_chars\n",
    "    \n",
    "    return condition"
   ]
  },
  {
   "cell_type": "code",
   "execution_count": 118,
   "metadata": {},
   "outputs": [
    {
     "data": {
      "text/html": [
       "<div><style>\n",
       ".dataframe > thead > tr,\n",
       ".dataframe > tbody > tr {\n",
       "  text-align: right;\n",
       "  white-space: pre-wrap;\n",
       "}\n",
       "</style>\n",
       "<small>shape: (13_451,)</small><table border=\"1\" class=\"dataframe\"><thead><tr><th>caption</th></tr><tr><td>str</td></tr></thead><tbody><tr><td>&quot;Odisha - 2 : Simlipal&quot;</td></tr><tr><td>&quot;Page 15&quot;</td></tr><tr><td>&quot;18th century man silhouettes&quot;</td></tr><tr><td>&quot;¡Ánimo juventud! (2020) 1080p WEB-DL Latino&quot;</td></tr><tr><td>&quot;&quot;Landing Page Template namens &quot;&quot;Kids Tree Preschool&quot;&quot; #65801&quot;&quot;</td></tr><tr><td>&hellip;</td></tr><tr><td>&quot;SOFABAB&quot;</td></tr><tr><td>&quot;From Dusk Till Dawn - The Trilogy (Blu-Ray) - 4&quot;</td></tr><tr><td>&quot;Vintage Champion Grant Hill Jersey Medium&quot;</td></tr><tr><td>&quot;SOFABAB&quot;</td></tr><tr><td>&quot;Certified Pre-Owned 2019 Chevrolet Impala LT- Leather, Sunroof, Remote Start&quot;</td></tr></tbody></table></div>"
      ],
      "text/plain": [
       "shape: (13_451,)\n",
       "Series: 'caption' [str]\n",
       "[\n",
       "\t\"Odisha - 2 : Simlipal\"\n",
       "\t\"Page 15\"\n",
       "\t\"18th century man silhouettes\"\n",
       "\t\"¡Ánimo juventud! (2020) 1080p WEB-DL Latino\"\n",
       "\t\"\"Landing Page Template namens \"\"Kids Tree Preschool\"\" #65801\"\"\n",
       "\t…\n",
       "\t\"SOFABAB\"\n",
       "\t\"From Dusk Till Dawn - The Trilogy (Blu-Ray) - 4\"\n",
       "\t\"Vintage Champion Grant Hill Jersey Medium\"\n",
       "\t\"SOFABAB\"\n",
       "\t\"Certified Pre-Owned 2019 Chevrolet Impala LT- Leather, Sunroof, Remote Start\"\n",
       "]"
      ]
     },
     "execution_count": 118,
     "metadata": {},
     "output_type": "execute_result"
    }
   ],
   "source": [
    "df_train['caption']"
   ]
  },
  {
   "cell_type": "code",
   "execution_count": null,
   "metadata": {},
   "outputs": [],
   "source": [
    "import fasttext\n",
    "import os\n",
    "import re\n",
    "\n",
    "def fasttext_load_model(model_name: str, dir_name: str, cwd: str):\n",
    "    try:\n",
    "        model_path = os.path.join(cwd, dir_name, model_name)\n",
    "        model = fasttext.load_model(model_path)\n",
    "    except:\n",
    "        parent_dir = os.path.dirname(cwd)\n",
    "        return fasttext_load_model(model_name, dir_name, parent_dir)\n",
    "    else:\n",
    "        return model\n",
    "    \n",
    "def extract_str_from_pattern(s: str, regex: str) -> str:\n",
    "    pattern = re.compile(regex)\n",
    "    match = pattern.match(s)\n",
    "    tot_groups = len(match.groups())\n",
    "    matched_groups = match.groups(tot_groups)\n",
    "    return matched_groups\n",
    "\n",
    "def is_english_sentence(sentence: str):\n",
    "    predictions, score = model.predict(sentence.strip().replace('\\n', ' '))\n",
    "    return {\"is_english\":predictions[0] == '__label__en', \n",
    "            \"lang_detected\":predictions[0], \n",
    "            \"score\":score[0]}\n",
    "\n",
    "# if __name__ == \"__main__\":\n",
    "#     model = fasttext_load_model('lid.176.bin', 'models', os.getcwd()) \n",
    "#     input_file = \"/home/fbernardi/Documents/fair_spoke_8/train_cap.txt\"\n",
    "#     with open(input_file, 'r', encoding='utf-8') as f:\n",
    "#         for line in f:\n",
    "#             result = is_english_sentence(line)\n",
    "#             detected_lang = extract_str_from_pattern(result['lang_detected'], r'^__label__(.+)$')\n",
    "#             print(detected_lang[0], result)\n",
    "        "
   ]
  },
  {
   "cell_type": "code",
   "execution_count": 4,
   "metadata": {},
   "outputs": [],
   "source": [
    "subset = [\n",
    "    'similarity',\n",
    "    'hash',\n",
    "    'punsafe',\n",
    "    'pwatermark',\n",
    "    'LANGUAGE',\n",
    "    'caption',\n",
    "    'url',\n",
    "    'key',\n",
    "    'width',\n",
    "    'height',\n",
    "    'original_width',\n",
    "    'original_height'\n",
    "]\n",
    "\n",
    "splits = {'train': 'data/train-*-of-*.parquet', 'test': 'data/test-00000-of-00001-f5aa494af1d25f74.parquet'}\n",
    "df_train = pl.read_parquet('hf://datasets/yuvalkirstain/laion-hd-subset/' + splits['train'])[subset]\n",
    "df_test = pl.read_parquet('hf://datasets/yuvalkirstain/laion-hd-subset/' + splits['test'])[subset]"
   ]
  },
  {
   "cell_type": "code",
   "execution_count": 5,
   "metadata": {},
   "outputs": [],
   "source": [
    "map_data_types = pl.Struct({\n",
    "                        pl.Field(\"is_english\", pl.Boolean),\n",
    "                        pl.Field(\"lang_detected\", pl.String),\n",
    "                        pl.Field(\"score\", pl.Float64)\n",
    "                        })"
   ]
  },
  {
   "cell_type": "code",
   "execution_count": 62,
   "metadata": {},
   "outputs": [
    {
     "data": {
      "text/html": [
       "<div><style>\n",
       ".dataframe > thead > tr,\n",
       ".dataframe > tbody > tr {\n",
       "  text-align: right;\n",
       "  white-space: pre-wrap;\n",
       "}\n",
       "</style>\n",
       "<small>shape: (13_451, 15)</small><table border=\"1\" class=\"dataframe\"><thead><tr><th>similarity</th><th>hash</th><th>punsafe</th><th>pwatermark</th><th>LANGUAGE</th><th>caption</th><th>url</th><th>key</th><th>width</th><th>height</th><th>original_width</th><th>original_height</th><th>is_english</th><th>lang_detected</th><th>score</th></tr><tr><td>f64</td><td>i64</td><td>f64</td><td>f64</td><td>str</td><td>str</td><td>str</td><td>str</td><td>i64</td><td>i64</td><td>i64</td><td>i64</td><td>bool</td><td>str</td><td>f64</td></tr></thead><tbody><tr><td>0.264381</td><td>8441708930180998904</td><td>0.000175</td><td>0.009912</td><td>&quot;sw&quot;</td><td>&quot;Odisha - 2 : Simlipal&quot;</td><td>&quot;https://img.over-blog-kiwi.com/0/99/16/03/20190110/ob_987ce2_dsc03556.jpg&quot;</td><td>&quot;000004145&quot;</td><td>1024</td><td>1024</td><td>1600</td><td>1600</td><td>false</td><td>&quot;fr&quot;</td><td>0.267603</td></tr><tr><td>0.284093</td><td>1252282617735001209</td><td>0.000183</td><td>null</td><td>&quot;en&quot;</td><td>&quot;Page 15&quot;</td><td>&quot;http://p.calameoassets.com/161128121756-0befcc30be0f41b9dbb533a9ab79af9d/p15.jpg&quot;</td><td>&quot;000011979&quot;</td><td>1024</td><td>1447</td><td>1190</td><td>1682</td><td>true</td><td>&quot;en&quot;</td><td>0.39419</td></tr><tr><td>0.303465</td><td>4131493839794366439</td><td>0.000483</td><td>0.478444</td><td>&quot;en&quot;</td><td>&quot;18th century man silhouettes&quot;</td><td>&quot;https://www.freelogovectors.net/wp-content/uploads/2013/12/18th-century-man-silhouettes.jpg&quot;</td><td>&quot;000010373&quot;</td><td>1663</td><td>1024</td><td>2396</td><td>1475</td><td>true</td><td>&quot;en&quot;</td><td>0.703355</td></tr><tr><td>0.266388</td><td>-5846660546473290352</td><td>0.384948</td><td>0.002599</td><td>&quot;lt&quot;</td><td>&quot;¡Ánimo juventud! (2020) 1080p WEB-DL Latino&quot;</td><td>&quot;https://1.bp.blogspot.com/-Y5-QEi-CWiw/YCF3S1WubqI/AAAAAAAAZpU/rkUm6DXFeEY_CfNFpGLeg7t5xN-y37tQwCLcBGAsYHQ/s0/%25C2%25A1%25C3%2581nimo%2Bjuventud%2521%2B%25282020%2529%2B1080p%2BWEB-DL%2BLatino%2B-%2BDescaragtepelis.com.mkv_snapshot_00.21.17.276.jpg&quot;</td><td>&quot;000007873&quot;</td><td>1820</td><td>1024</td><td>1920</td><td>1080</td><td>false</td><td>&quot;es&quot;</td><td>0.578368</td></tr><tr><td>0.310429</td><td>6939400869967208633</td><td>0.000073</td><td>0.295235</td><td>&quot;nolang&quot;</td><td>&quot;&quot;Landing Page Template namens &quot;&quot;Kids Tree Preschool&quot;&quot; #65801&quot;&quot;</td><td>&quot;https://s.tmimgcdn.com/scr/65800/landing-page-template-namens-kids-tree-preschool-65801_65801-original.jpg&quot;</td><td>&quot;000010685&quot;</td><td>1024</td><td>1250</td><td>1024</td><td>1250</td><td>true</td><td>&quot;en&quot;</td><td>0.629598</td></tr><tr><td>&hellip;</td><td>&hellip;</td><td>&hellip;</td><td>&hellip;</td><td>&hellip;</td><td>&hellip;</td><td>&hellip;</td><td>&hellip;</td><td>&hellip;</td><td>&hellip;</td><td>&hellip;</td><td>&hellip;</td><td>&hellip;</td><td>&hellip;</td><td>&hellip;</td></tr><tr><td>0.288857</td><td>-3754978981588788335</td><td>0.000742</td><td>0.402525</td><td>&quot;ja&quot;</td><td>&quot;SOFABAB&quot;</td><td>&quot;https://albatrossguitar.hipcast.com/albumart/1000_1627922587.jpg&quot;</td><td>&quot;000003300&quot;</td><td>1024</td><td>1024</td><td>1683</td><td>1683</td><td>false</td><td>&quot;es&quot;</td><td>0.202791</td></tr><tr><td>0.32071</td><td>8101346899319823492</td><td>0.002733</td><td>0.29081</td><td>&quot;en&quot;</td><td>&quot;From Dusk Till Dawn - The Trilogy (Blu-Ray) - 4&quot;</td><td>&quot;https://cdn.ozone.bg/media/catalog/product/cache/1/image/a4e40ebdc3e371adff845072e1c73f37/f/r/e93b322c98386df3534fa3306b3a200a/from-dusk-till-dawn---the-trilogy-blu-ray-36.jpg&quot;</td><td>&quot;000011392&quot;</td><td>1024</td><td>1323</td><td>1213</td><td>1567</td><td>true</td><td>&quot;en&quot;</td><td>0.437248</td></tr><tr><td>0.330339</td><td>-230864369060936050</td><td>0.000091</td><td>0.327558</td><td>&quot;en&quot;</td><td>&quot;Vintage Champion Grant Hill Jersey Medium&quot;</td><td>&quot;https://cdn.shopify.com/s/files/1/2974/2654/products/hill_jersey_blue.jpg?v=1611068917&quot;</td><td>&quot;000015248&quot;</td><td>1024</td><td>1024</td><td>2048</td><td>2048</td><td>true</td><td>&quot;en&quot;</td><td>0.543158</td></tr><tr><td>0.296867</td><td>5094972792430996628</td><td>0.000742</td><td>0.402556</td><td>&quot;ja&quot;</td><td>&quot;SOFABAB&quot;</td><td>&quot;https://albatrossguitar.hipcast.com/albumart/1000_1624136470.jpg&quot;</td><td>&quot;000010705&quot;</td><td>1024</td><td>1024</td><td>1683</td><td>1683</td><td>false</td><td>&quot;es&quot;</td><td>0.202791</td></tr><tr><td>0.311854</td><td>-3649928615745462001</td><td>3.2266e-7</td><td>0.077521</td><td>&quot;en&quot;</td><td>&quot;Certified Pre-Owned 2019 Chevrolet Impala LT- Leather, Sunroof, Remote Start&quot;</td><td>&quot;https://02798c91455e6c1faba4-60f8c9d3fccaf3c5e223ddf8fa8bf97b.ssl.cf1.rackcdn.com/2G11Z5S34K9151892/499a2fdb575dad0cd6e5ac1885500062.jpg&quot;</td><td>&quot;000016358&quot;</td><td>1536</td><td>1024</td><td>1600</td><td>1067</td><td>true</td><td>&quot;en&quot;</td><td>0.741842</td></tr></tbody></table></div>"
      ],
      "text/plain": [
       "shape: (13_451, 15)\n",
       "┌────────────┬──────────────────────┬───────────┬────────────┬───┬─────────────────┬────────────┬───────────────┬──────────┐\n",
       "│ similarity ┆ hash                 ┆ punsafe   ┆ pwatermark ┆ … ┆ original_height ┆ is_english ┆ lang_detected ┆ score    │\n",
       "│ ---        ┆ ---                  ┆ ---       ┆ ---        ┆   ┆ ---             ┆ ---        ┆ ---           ┆ ---      │\n",
       "│ f64        ┆ i64                  ┆ f64       ┆ f64        ┆   ┆ i64             ┆ bool       ┆ str           ┆ f64      │\n",
       "╞════════════╪══════════════════════╪═══════════╪════════════╪═══╪═════════════════╪════════════╪═══════════════╪══════════╡\n",
       "│ 0.264381   ┆ 8441708930180998904  ┆ 0.000175  ┆ 0.009912   ┆ … ┆ 1600            ┆ false      ┆ fr            ┆ 0.267603 │\n",
       "│ 0.284093   ┆ 1252282617735001209  ┆ 0.000183  ┆ null       ┆ … ┆ 1682            ┆ true       ┆ en            ┆ 0.39419  │\n",
       "│ 0.303465   ┆ 4131493839794366439  ┆ 0.000483  ┆ 0.478444   ┆ … ┆ 1475            ┆ true       ┆ en            ┆ 0.703355 │\n",
       "│ 0.266388   ┆ -5846660546473290352 ┆ 0.384948  ┆ 0.002599   ┆ … ┆ 1080            ┆ false      ┆ es            ┆ 0.578368 │\n",
       "│ 0.310429   ┆ 6939400869967208633  ┆ 0.000073  ┆ 0.295235   ┆ … ┆ 1250            ┆ true       ┆ en            ┆ 0.629598 │\n",
       "│ …          ┆ …                    ┆ …         ┆ …          ┆ … ┆ …               ┆ …          ┆ …             ┆ …        │\n",
       "│ 0.288857   ┆ -3754978981588788335 ┆ 0.000742  ┆ 0.402525   ┆ … ┆ 1683            ┆ false      ┆ es            ┆ 0.202791 │\n",
       "│ 0.32071    ┆ 8101346899319823492  ┆ 0.002733  ┆ 0.29081    ┆ … ┆ 1567            ┆ true       ┆ en            ┆ 0.437248 │\n",
       "│ 0.330339   ┆ -230864369060936050  ┆ 0.000091  ┆ 0.327558   ┆ … ┆ 2048            ┆ true       ┆ en            ┆ 0.543158 │\n",
       "│ 0.296867   ┆ 5094972792430996628  ┆ 0.000742  ┆ 0.402556   ┆ … ┆ 1683            ┆ false      ┆ es            ┆ 0.202791 │\n",
       "│ 0.311854   ┆ -3649928615745462001 ┆ 3.2266e-7 ┆ 0.077521   ┆ … ┆ 1067            ┆ true       ┆ en            ┆ 0.741842 │\n",
       "└────────────┴──────────────────────┴───────────┴────────────┴───┴─────────────────┴────────────┴───────────────┴──────────┘"
      ]
     },
     "execution_count": 62,
     "metadata": {},
     "output_type": "execute_result"
    }
   ],
   "source": [
    "df_train"
   ]
  },
  {
   "cell_type": "code",
   "execution_count": 63,
   "metadata": {},
   "outputs": [
    {
     "data": {
      "text/plain": [
       "True"
      ]
     },
     "execution_count": 63,
     "metadata": {},
     "output_type": "execute_result"
    }
   ],
   "source": [
    "df_train['hash'].unique().count() == df_train.shape[0]"
   ]
  },
  {
   "cell_type": "code",
   "execution_count": 41,
   "metadata": {},
   "outputs": [
    {
     "data": {
      "text/plain": [
       "13451"
      ]
     },
     "execution_count": 41,
     "metadata": {},
     "output_type": "execute_result"
    }
   ],
   "source": [
    "df_train.shape[0]"
   ]
  },
  {
   "cell_type": "code",
   "execution_count": 64,
   "metadata": {},
   "outputs": [
    {
     "data": {
      "text/html": [
       "<div><style>\n",
       ".dataframe > thead > tr,\n",
       ".dataframe > tbody > tr {\n",
       "  text-align: right;\n",
       "  white-space: pre-wrap;\n",
       "}\n",
       "</style>\n",
       "<small>shape: (13_451,)</small><table border=\"1\" class=\"dataframe\"><thead><tr><th>key</th></tr><tr><td>str</td></tr></thead><tbody><tr><td>&quot;000011949&quot;</td></tr><tr><td>&quot;000013817&quot;</td></tr><tr><td>&quot;000010617&quot;</td></tr><tr><td>&quot;000005204&quot;</td></tr><tr><td>&quot;000000700&quot;</td></tr><tr><td>&hellip;</td></tr><tr><td>&quot;000012328&quot;</td></tr><tr><td>&quot;000002313&quot;</td></tr><tr><td>&quot;000013787&quot;</td></tr><tr><td>&quot;000003701&quot;</td></tr><tr><td>&quot;000004166&quot;</td></tr></tbody></table></div>"
      ],
      "text/plain": [
       "shape: (13_451,)\n",
       "Series: 'key' [str]\n",
       "[\n",
       "\t\"000011949\"\n",
       "\t\"000013817\"\n",
       "\t\"000010617\"\n",
       "\t\"000005204\"\n",
       "\t\"000000700\"\n",
       "\t…\n",
       "\t\"000012328\"\n",
       "\t\"000002313\"\n",
       "\t\"000013787\"\n",
       "\t\"000003701\"\n",
       "\t\"000004166\"\n",
       "]"
      ]
     },
     "execution_count": 64,
     "metadata": {},
     "output_type": "execute_result"
    }
   ],
   "source": [
    "df_train['key'].unique()"
   ]
  },
  {
   "cell_type": "code",
   "execution_count": 65,
   "metadata": {},
   "outputs": [
    {
     "data": {
      "text/html": [
       "<div><style>\n",
       ".dataframe > thead > tr,\n",
       ".dataframe > tbody > tr {\n",
       "  text-align: right;\n",
       "  white-space: pre-wrap;\n",
       "}\n",
       "</style>\n",
       "<small>shape: (91, 2)</small><table border=\"1\" class=\"dataframe\"><thead><tr><th>LANGUAGE</th><th>count</th></tr><tr><td>str</td><td>u32</td></tr></thead><tbody><tr><td>&quot;en&quot;</td><td>5911</td></tr><tr><td>&quot;nolang&quot;</td><td>3219</td></tr><tr><td>&quot;fr&quot;</td><td>379</td></tr><tr><td>&quot;de&quot;</td><td>354</td></tr><tr><td>&quot;ru&quot;</td><td>299</td></tr><tr><td>&hellip;</td><td>&hellip;</td></tr><tr><td>&quot;tg&quot;</td><td>2</td></tr><tr><td>&quot;mi&quot;</td><td>2</td></tr><tr><td>&quot;bn&quot;</td><td>1</td></tr><tr><td>&quot;ka&quot;</td><td>1</td></tr><tr><td>&quot;sd&quot;</td><td>1</td></tr></tbody></table></div>"
      ],
      "text/plain": [
       "shape: (91, 2)\n",
       "┌──────────┬───────┐\n",
       "│ LANGUAGE ┆ count │\n",
       "│ ---      ┆ ---   │\n",
       "│ str      ┆ u32   │\n",
       "╞══════════╪═══════╡\n",
       "│ en       ┆ 5911  │\n",
       "│ nolang   ┆ 3219  │\n",
       "│ fr       ┆ 379   │\n",
       "│ de       ┆ 354   │\n",
       "│ ru       ┆ 299   │\n",
       "│ …        ┆ …     │\n",
       "│ tg       ┆ 2     │\n",
       "│ mi       ┆ 2     │\n",
       "│ bn       ┆ 1     │\n",
       "│ ka       ┆ 1     │\n",
       "│ sd       ┆ 1     │\n",
       "└──────────┴───────┘"
      ]
     },
     "execution_count": 65,
     "metadata": {},
     "output_type": "execute_result"
    }
   ],
   "source": [
    "df_train['LANGUAGE'].value_counts().sort('count', descending=True)"
   ]
  },
  {
   "cell_type": "code",
   "execution_count": 9,
   "metadata": {},
   "outputs": [],
   "source": [
    "df_train = df_train.with_columns(\n",
    "       df_train['caption'].map_elements(lambda x: is_english_sentence(x), return_dtype=map_data_types, skip_nulls=True).alias('lang_detection')\n",
    ").unnest(\"lang_detection\")"
   ]
  },
  {
   "cell_type": "code",
   "execution_count": 10,
   "metadata": {},
   "outputs": [
    {
     "data": {
      "text/html": [
       "<div><style>\n",
       ".dataframe > thead > tr,\n",
       ".dataframe > tbody > tr {\n",
       "  text-align: right;\n",
       "  white-space: pre-wrap;\n",
       "}\n",
       "</style>\n",
       "<small>shape: (13_451, 15)</small><table border=\"1\" class=\"dataframe\"><thead><tr><th>similarity</th><th>hash</th><th>punsafe</th><th>pwatermark</th><th>LANGUAGE</th><th>caption</th><th>url</th><th>key</th><th>width</th><th>height</th><th>original_width</th><th>original_height</th><th>is_english</th><th>lang_detected</th><th>score</th></tr><tr><td>f64</td><td>i64</td><td>f64</td><td>f64</td><td>str</td><td>str</td><td>str</td><td>str</td><td>i64</td><td>i64</td><td>i64</td><td>i64</td><td>bool</td><td>str</td><td>f64</td></tr></thead><tbody><tr><td>0.264381</td><td>8441708930180998904</td><td>0.000175</td><td>0.009912</td><td>&quot;sw&quot;</td><td>&quot;Odisha - 2 : Simlipal&quot;</td><td>&quot;https://img.over-blog-kiwi.com…</td><td>&quot;000004145&quot;</td><td>1024</td><td>1024</td><td>1600</td><td>1600</td><td>false</td><td>&quot;__label__fr&quot;</td><td>0.267603</td></tr><tr><td>0.284093</td><td>1252282617735001209</td><td>0.000183</td><td>null</td><td>&quot;en&quot;</td><td>&quot;Page 15&quot;</td><td>&quot;http://p.calameoassets.com/161…</td><td>&quot;000011979&quot;</td><td>1024</td><td>1447</td><td>1190</td><td>1682</td><td>true</td><td>&quot;__label__en&quot;</td><td>0.39419</td></tr><tr><td>0.303465</td><td>4131493839794366439</td><td>0.000483</td><td>0.478444</td><td>&quot;en&quot;</td><td>&quot;18th century man silhouettes&quot;</td><td>&quot;https://www.freelogovectors.ne…</td><td>&quot;000010373&quot;</td><td>1663</td><td>1024</td><td>2396</td><td>1475</td><td>true</td><td>&quot;__label__en&quot;</td><td>0.703355</td></tr><tr><td>0.266388</td><td>-5846660546473290352</td><td>0.384948</td><td>0.002599</td><td>&quot;lt&quot;</td><td>&quot;¡Ánimo juventud! (2020) 1080p …</td><td>&quot;https://1.bp.blogspot.com/-Y5-…</td><td>&quot;000007873&quot;</td><td>1820</td><td>1024</td><td>1920</td><td>1080</td><td>false</td><td>&quot;__label__es&quot;</td><td>0.578368</td></tr><tr><td>0.310429</td><td>6939400869967208633</td><td>0.000073</td><td>0.295235</td><td>&quot;nolang&quot;</td><td>&quot;&quot;Landing Page Template namens …</td><td>&quot;https://s.tmimgcdn.com/scr/658…</td><td>&quot;000010685&quot;</td><td>1024</td><td>1250</td><td>1024</td><td>1250</td><td>true</td><td>&quot;__label__en&quot;</td><td>0.629598</td></tr><tr><td>&hellip;</td><td>&hellip;</td><td>&hellip;</td><td>&hellip;</td><td>&hellip;</td><td>&hellip;</td><td>&hellip;</td><td>&hellip;</td><td>&hellip;</td><td>&hellip;</td><td>&hellip;</td><td>&hellip;</td><td>&hellip;</td><td>&hellip;</td><td>&hellip;</td></tr><tr><td>0.288857</td><td>-3754978981588788335</td><td>0.000742</td><td>0.402525</td><td>&quot;ja&quot;</td><td>&quot;SOFABAB&quot;</td><td>&quot;https://albatrossguitar.hipcas…</td><td>&quot;000003300&quot;</td><td>1024</td><td>1024</td><td>1683</td><td>1683</td><td>false</td><td>&quot;__label__es&quot;</td><td>0.202791</td></tr><tr><td>0.32071</td><td>8101346899319823492</td><td>0.002733</td><td>0.29081</td><td>&quot;en&quot;</td><td>&quot;From Dusk Till Dawn - The Tril…</td><td>&quot;https://cdn.ozone.bg/media/cat…</td><td>&quot;000011392&quot;</td><td>1024</td><td>1323</td><td>1213</td><td>1567</td><td>true</td><td>&quot;__label__en&quot;</td><td>0.437248</td></tr><tr><td>0.330339</td><td>-230864369060936050</td><td>0.000091</td><td>0.327558</td><td>&quot;en&quot;</td><td>&quot;Vintage Champion Grant Hill Je…</td><td>&quot;https://cdn.shopify.com/s/file…</td><td>&quot;000015248&quot;</td><td>1024</td><td>1024</td><td>2048</td><td>2048</td><td>true</td><td>&quot;__label__en&quot;</td><td>0.543158</td></tr><tr><td>0.296867</td><td>5094972792430996628</td><td>0.000742</td><td>0.402556</td><td>&quot;ja&quot;</td><td>&quot;SOFABAB&quot;</td><td>&quot;https://albatrossguitar.hipcas…</td><td>&quot;000010705&quot;</td><td>1024</td><td>1024</td><td>1683</td><td>1683</td><td>false</td><td>&quot;__label__es&quot;</td><td>0.202791</td></tr><tr><td>0.311854</td><td>-3649928615745462001</td><td>3.2266e-7</td><td>0.077521</td><td>&quot;en&quot;</td><td>&quot;Certified Pre-Owned 2019 Chevr…</td><td>&quot;https://02798c91455e6c1faba4-6…</td><td>&quot;000016358&quot;</td><td>1536</td><td>1024</td><td>1600</td><td>1067</td><td>true</td><td>&quot;__label__en&quot;</td><td>0.741842</td></tr></tbody></table></div>"
      ],
      "text/plain": [
       "shape: (13_451, 15)\n",
       "┌───────────┬───────────┬───────────┬───────────┬───┬───────────┬───────────┬───────────┬──────────┐\n",
       "│ similarit ┆ hash      ┆ punsafe   ┆ pwatermar ┆ … ┆ original_ ┆ is_englis ┆ lang_dete ┆ score    │\n",
       "│ y         ┆ ---       ┆ ---       ┆ k         ┆   ┆ height    ┆ h         ┆ cted      ┆ ---      │\n",
       "│ ---       ┆ i64       ┆ f64       ┆ ---       ┆   ┆ ---       ┆ ---       ┆ ---       ┆ f64      │\n",
       "│ f64       ┆           ┆           ┆ f64       ┆   ┆ i64       ┆ bool      ┆ str       ┆          │\n",
       "╞═══════════╪═══════════╪═══════════╪═══════════╪═══╪═══════════╪═══════════╪═══════════╪══════════╡\n",
       "│ 0.264381  ┆ 844170893 ┆ 0.000175  ┆ 0.009912  ┆ … ┆ 1600      ┆ false     ┆ __label__ ┆ 0.267603 │\n",
       "│           ┆ 018099890 ┆           ┆           ┆   ┆           ┆           ┆ fr        ┆          │\n",
       "│           ┆ 4         ┆           ┆           ┆   ┆           ┆           ┆           ┆          │\n",
       "│ 0.284093  ┆ 125228261 ┆ 0.000183  ┆ null      ┆ … ┆ 1682      ┆ true      ┆ __label__ ┆ 0.39419  │\n",
       "│           ┆ 773500120 ┆           ┆           ┆   ┆           ┆           ┆ en        ┆          │\n",
       "│           ┆ 9         ┆           ┆           ┆   ┆           ┆           ┆           ┆          │\n",
       "│ 0.303465  ┆ 413149383 ┆ 0.000483  ┆ 0.478444  ┆ … ┆ 1475      ┆ true      ┆ __label__ ┆ 0.703355 │\n",
       "│           ┆ 979436643 ┆           ┆           ┆   ┆           ┆           ┆ en        ┆          │\n",
       "│           ┆ 9         ┆           ┆           ┆   ┆           ┆           ┆           ┆          │\n",
       "│ 0.266388  ┆ -58466605 ┆ 0.384948  ┆ 0.002599  ┆ … ┆ 1080      ┆ false     ┆ __label__ ┆ 0.578368 │\n",
       "│           ┆ 464732903 ┆           ┆           ┆   ┆           ┆           ┆ es        ┆          │\n",
       "│           ┆ 52        ┆           ┆           ┆   ┆           ┆           ┆           ┆          │\n",
       "│ 0.310429  ┆ 693940086 ┆ 0.000073  ┆ 0.295235  ┆ … ┆ 1250      ┆ true      ┆ __label__ ┆ 0.629598 │\n",
       "│           ┆ 996720863 ┆           ┆           ┆   ┆           ┆           ┆ en        ┆          │\n",
       "│           ┆ 3         ┆           ┆           ┆   ┆           ┆           ┆           ┆          │\n",
       "│ …         ┆ …         ┆ …         ┆ …         ┆ … ┆ …         ┆ …         ┆ …         ┆ …        │\n",
       "│ 0.288857  ┆ -37549789 ┆ 0.000742  ┆ 0.402525  ┆ … ┆ 1683      ┆ false     ┆ __label__ ┆ 0.202791 │\n",
       "│           ┆ 815887883 ┆           ┆           ┆   ┆           ┆           ┆ es        ┆          │\n",
       "│           ┆ 35        ┆           ┆           ┆   ┆           ┆           ┆           ┆          │\n",
       "│ 0.32071   ┆ 810134689 ┆ 0.002733  ┆ 0.29081   ┆ … ┆ 1567      ┆ true      ┆ __label__ ┆ 0.437248 │\n",
       "│           ┆ 931982349 ┆           ┆           ┆   ┆           ┆           ┆ en        ┆          │\n",
       "│           ┆ 2         ┆           ┆           ┆   ┆           ┆           ┆           ┆          │\n",
       "│ 0.330339  ┆ -23086436 ┆ 0.000091  ┆ 0.327558  ┆ … ┆ 2048      ┆ true      ┆ __label__ ┆ 0.543158 │\n",
       "│           ┆ 906093605 ┆           ┆           ┆   ┆           ┆           ┆ en        ┆          │\n",
       "│           ┆ 0         ┆           ┆           ┆   ┆           ┆           ┆           ┆          │\n",
       "│ 0.296867  ┆ 509497279 ┆ 0.000742  ┆ 0.402556  ┆ … ┆ 1683      ┆ false     ┆ __label__ ┆ 0.202791 │\n",
       "│           ┆ 243099662 ┆           ┆           ┆   ┆           ┆           ┆ es        ┆          │\n",
       "│           ┆ 8         ┆           ┆           ┆   ┆           ┆           ┆           ┆          │\n",
       "│ 0.311854  ┆ -36499286 ┆ 3.2266e-7 ┆ 0.077521  ┆ … ┆ 1067      ┆ true      ┆ __label__ ┆ 0.741842 │\n",
       "│           ┆ 157454620 ┆           ┆           ┆   ┆           ┆           ┆ en        ┆          │\n",
       "│           ┆ 01        ┆           ┆           ┆   ┆           ┆           ┆           ┆          │\n",
       "└───────────┴───────────┴───────────┴───────────┴───┴───────────┴───────────┴───────────┴──────────┘"
      ]
     },
     "execution_count": 10,
     "metadata": {},
     "output_type": "execute_result"
    }
   ],
   "source": [
    "df_train"
   ]
  },
  {
   "cell_type": "code",
   "execution_count": 11,
   "metadata": {},
   "outputs": [],
   "source": [
    "df_train = df_train.with_columns(\n",
    "    df_train['lang_detected'].map_elements(\n",
    "        lambda x: extract_str_from_pattern(x, r'^__label__(.+)$')[0], \n",
    "        return_dtype=pl.String, \n",
    "        skip_nulls=False)\n",
    ")"
   ]
  },
  {
   "cell_type": "code",
   "execution_count": 12,
   "metadata": {},
   "outputs": [
    {
     "data": {
      "text/html": [
       "<div><style>\n",
       ".dataframe > thead > tr,\n",
       ".dataframe > tbody > tr {\n",
       "  text-align: right;\n",
       "  white-space: pre-wrap;\n",
       "}\n",
       "</style>\n",
       "<small>shape: (13_451, 15)</small><table border=\"1\" class=\"dataframe\"><thead><tr><th>similarity</th><th>hash</th><th>punsafe</th><th>pwatermark</th><th>LANGUAGE</th><th>caption</th><th>url</th><th>key</th><th>width</th><th>height</th><th>original_width</th><th>original_height</th><th>is_english</th><th>lang_detected</th><th>score</th></tr><tr><td>f64</td><td>i64</td><td>f64</td><td>f64</td><td>str</td><td>str</td><td>str</td><td>str</td><td>i64</td><td>i64</td><td>i64</td><td>i64</td><td>bool</td><td>str</td><td>f64</td></tr></thead><tbody><tr><td>0.264381</td><td>8441708930180998904</td><td>0.000175</td><td>0.009912</td><td>&quot;sw&quot;</td><td>&quot;Odisha - 2 : Simlipal&quot;</td><td>&quot;https://img.over-blog-kiwi.com…</td><td>&quot;000004145&quot;</td><td>1024</td><td>1024</td><td>1600</td><td>1600</td><td>false</td><td>&quot;fr&quot;</td><td>0.267603</td></tr><tr><td>0.284093</td><td>1252282617735001209</td><td>0.000183</td><td>null</td><td>&quot;en&quot;</td><td>&quot;Page 15&quot;</td><td>&quot;http://p.calameoassets.com/161…</td><td>&quot;000011979&quot;</td><td>1024</td><td>1447</td><td>1190</td><td>1682</td><td>true</td><td>&quot;en&quot;</td><td>0.39419</td></tr><tr><td>0.303465</td><td>4131493839794366439</td><td>0.000483</td><td>0.478444</td><td>&quot;en&quot;</td><td>&quot;18th century man silhouettes&quot;</td><td>&quot;https://www.freelogovectors.ne…</td><td>&quot;000010373&quot;</td><td>1663</td><td>1024</td><td>2396</td><td>1475</td><td>true</td><td>&quot;en&quot;</td><td>0.703355</td></tr><tr><td>0.266388</td><td>-5846660546473290352</td><td>0.384948</td><td>0.002599</td><td>&quot;lt&quot;</td><td>&quot;¡Ánimo juventud! (2020) 1080p …</td><td>&quot;https://1.bp.blogspot.com/-Y5-…</td><td>&quot;000007873&quot;</td><td>1820</td><td>1024</td><td>1920</td><td>1080</td><td>false</td><td>&quot;es&quot;</td><td>0.578368</td></tr><tr><td>0.310429</td><td>6939400869967208633</td><td>0.000073</td><td>0.295235</td><td>&quot;nolang&quot;</td><td>&quot;&quot;Landing Page Template namens …</td><td>&quot;https://s.tmimgcdn.com/scr/658…</td><td>&quot;000010685&quot;</td><td>1024</td><td>1250</td><td>1024</td><td>1250</td><td>true</td><td>&quot;en&quot;</td><td>0.629598</td></tr><tr><td>&hellip;</td><td>&hellip;</td><td>&hellip;</td><td>&hellip;</td><td>&hellip;</td><td>&hellip;</td><td>&hellip;</td><td>&hellip;</td><td>&hellip;</td><td>&hellip;</td><td>&hellip;</td><td>&hellip;</td><td>&hellip;</td><td>&hellip;</td><td>&hellip;</td></tr><tr><td>0.288857</td><td>-3754978981588788335</td><td>0.000742</td><td>0.402525</td><td>&quot;ja&quot;</td><td>&quot;SOFABAB&quot;</td><td>&quot;https://albatrossguitar.hipcas…</td><td>&quot;000003300&quot;</td><td>1024</td><td>1024</td><td>1683</td><td>1683</td><td>false</td><td>&quot;es&quot;</td><td>0.202791</td></tr><tr><td>0.32071</td><td>8101346899319823492</td><td>0.002733</td><td>0.29081</td><td>&quot;en&quot;</td><td>&quot;From Dusk Till Dawn - The Tril…</td><td>&quot;https://cdn.ozone.bg/media/cat…</td><td>&quot;000011392&quot;</td><td>1024</td><td>1323</td><td>1213</td><td>1567</td><td>true</td><td>&quot;en&quot;</td><td>0.437248</td></tr><tr><td>0.330339</td><td>-230864369060936050</td><td>0.000091</td><td>0.327558</td><td>&quot;en&quot;</td><td>&quot;Vintage Champion Grant Hill Je…</td><td>&quot;https://cdn.shopify.com/s/file…</td><td>&quot;000015248&quot;</td><td>1024</td><td>1024</td><td>2048</td><td>2048</td><td>true</td><td>&quot;en&quot;</td><td>0.543158</td></tr><tr><td>0.296867</td><td>5094972792430996628</td><td>0.000742</td><td>0.402556</td><td>&quot;ja&quot;</td><td>&quot;SOFABAB&quot;</td><td>&quot;https://albatrossguitar.hipcas…</td><td>&quot;000010705&quot;</td><td>1024</td><td>1024</td><td>1683</td><td>1683</td><td>false</td><td>&quot;es&quot;</td><td>0.202791</td></tr><tr><td>0.311854</td><td>-3649928615745462001</td><td>3.2266e-7</td><td>0.077521</td><td>&quot;en&quot;</td><td>&quot;Certified Pre-Owned 2019 Chevr…</td><td>&quot;https://02798c91455e6c1faba4-6…</td><td>&quot;000016358&quot;</td><td>1536</td><td>1024</td><td>1600</td><td>1067</td><td>true</td><td>&quot;en&quot;</td><td>0.741842</td></tr></tbody></table></div>"
      ],
      "text/plain": [
       "shape: (13_451, 15)\n",
       "┌───────────┬───────────┬───────────┬───────────┬───┬───────────┬───────────┬───────────┬──────────┐\n",
       "│ similarit ┆ hash      ┆ punsafe   ┆ pwatermar ┆ … ┆ original_ ┆ is_englis ┆ lang_dete ┆ score    │\n",
       "│ y         ┆ ---       ┆ ---       ┆ k         ┆   ┆ height    ┆ h         ┆ cted      ┆ ---      │\n",
       "│ ---       ┆ i64       ┆ f64       ┆ ---       ┆   ┆ ---       ┆ ---       ┆ ---       ┆ f64      │\n",
       "│ f64       ┆           ┆           ┆ f64       ┆   ┆ i64       ┆ bool      ┆ str       ┆          │\n",
       "╞═══════════╪═══════════╪═══════════╪═══════════╪═══╪═══════════╪═══════════╪═══════════╪══════════╡\n",
       "│ 0.264381  ┆ 844170893 ┆ 0.000175  ┆ 0.009912  ┆ … ┆ 1600      ┆ false     ┆ fr        ┆ 0.267603 │\n",
       "│           ┆ 018099890 ┆           ┆           ┆   ┆           ┆           ┆           ┆          │\n",
       "│           ┆ 4         ┆           ┆           ┆   ┆           ┆           ┆           ┆          │\n",
       "│ 0.284093  ┆ 125228261 ┆ 0.000183  ┆ null      ┆ … ┆ 1682      ┆ true      ┆ en        ┆ 0.39419  │\n",
       "│           ┆ 773500120 ┆           ┆           ┆   ┆           ┆           ┆           ┆          │\n",
       "│           ┆ 9         ┆           ┆           ┆   ┆           ┆           ┆           ┆          │\n",
       "│ 0.303465  ┆ 413149383 ┆ 0.000483  ┆ 0.478444  ┆ … ┆ 1475      ┆ true      ┆ en        ┆ 0.703355 │\n",
       "│           ┆ 979436643 ┆           ┆           ┆   ┆           ┆           ┆           ┆          │\n",
       "│           ┆ 9         ┆           ┆           ┆   ┆           ┆           ┆           ┆          │\n",
       "│ 0.266388  ┆ -58466605 ┆ 0.384948  ┆ 0.002599  ┆ … ┆ 1080      ┆ false     ┆ es        ┆ 0.578368 │\n",
       "│           ┆ 464732903 ┆           ┆           ┆   ┆           ┆           ┆           ┆          │\n",
       "│           ┆ 52        ┆           ┆           ┆   ┆           ┆           ┆           ┆          │\n",
       "│ 0.310429  ┆ 693940086 ┆ 0.000073  ┆ 0.295235  ┆ … ┆ 1250      ┆ true      ┆ en        ┆ 0.629598 │\n",
       "│           ┆ 996720863 ┆           ┆           ┆   ┆           ┆           ┆           ┆          │\n",
       "│           ┆ 3         ┆           ┆           ┆   ┆           ┆           ┆           ┆          │\n",
       "│ …         ┆ …         ┆ …         ┆ …         ┆ … ┆ …         ┆ …         ┆ …         ┆ …        │\n",
       "│ 0.288857  ┆ -37549789 ┆ 0.000742  ┆ 0.402525  ┆ … ┆ 1683      ┆ false     ┆ es        ┆ 0.202791 │\n",
       "│           ┆ 815887883 ┆           ┆           ┆   ┆           ┆           ┆           ┆          │\n",
       "│           ┆ 35        ┆           ┆           ┆   ┆           ┆           ┆           ┆          │\n",
       "│ 0.32071   ┆ 810134689 ┆ 0.002733  ┆ 0.29081   ┆ … ┆ 1567      ┆ true      ┆ en        ┆ 0.437248 │\n",
       "│           ┆ 931982349 ┆           ┆           ┆   ┆           ┆           ┆           ┆          │\n",
       "│           ┆ 2         ┆           ┆           ┆   ┆           ┆           ┆           ┆          │\n",
       "│ 0.330339  ┆ -23086436 ┆ 0.000091  ┆ 0.327558  ┆ … ┆ 2048      ┆ true      ┆ en        ┆ 0.543158 │\n",
       "│           ┆ 906093605 ┆           ┆           ┆   ┆           ┆           ┆           ┆          │\n",
       "│           ┆ 0         ┆           ┆           ┆   ┆           ┆           ┆           ┆          │\n",
       "│ 0.296867  ┆ 509497279 ┆ 0.000742  ┆ 0.402556  ┆ … ┆ 1683      ┆ false     ┆ es        ┆ 0.202791 │\n",
       "│           ┆ 243099662 ┆           ┆           ┆   ┆           ┆           ┆           ┆          │\n",
       "│           ┆ 8         ┆           ┆           ┆   ┆           ┆           ┆           ┆          │\n",
       "│ 0.311854  ┆ -36499286 ┆ 3.2266e-7 ┆ 0.077521  ┆ … ┆ 1067      ┆ true      ┆ en        ┆ 0.741842 │\n",
       "│           ┆ 157454620 ┆           ┆           ┆   ┆           ┆           ┆           ┆          │\n",
       "│           ┆ 01        ┆           ┆           ┆   ┆           ┆           ┆           ┆          │\n",
       "└───────────┴───────────┴───────────┴───────────┴───┴───────────┴───────────┴───────────┴──────────┘"
      ]
     },
     "execution_count": 12,
     "metadata": {},
     "output_type": "execute_result"
    }
   ],
   "source": [
    "df_train"
   ]
  },
  {
   "cell_type": "code",
   "execution_count": 143,
   "metadata": {},
   "outputs": [
    {
     "data": {
      "application/vnd.plotly.v1+json": {
       "config": {
        "plotlyServerURL": "https://plot.ly"
       },
       "data": [
        {
         "orientation": "h",
         "type": "bar",
         "x": [
          1,
          1,
          1,
          2,
          2,
          2,
          2,
          3,
          3,
          4,
          4,
          5,
          5,
          5,
          6,
          6,
          7,
          7,
          7,
          7,
          7,
          8,
          9,
          10,
          10,
          10,
          10,
          10,
          11,
          11,
          12,
          13,
          13,
          13,
          13,
          14,
          14,
          14,
          15,
          15,
          16,
          17,
          19,
          19,
          21,
          21,
          22,
          22,
          23,
          25,
          25,
          25,
          26,
          27,
          28,
          28,
          29,
          30,
          30,
          34,
          34,
          35,
          36,
          42,
          42,
          45,
          46,
          50,
          51,
          56,
          60,
          61,
          70,
          78,
          88,
          89,
          92,
          94,
          96,
          130,
          139,
          141,
          197,
          200,
          259,
          259,
          299,
          354,
          379,
          3219,
          5911
         ],
         "xaxis": "x",
         "y": [
          "ka",
          "bn",
          "sd",
          "mi",
          "mr",
          "mn",
          "tg",
          "haw",
          "ur",
          "sw",
          "ps",
          "ne",
          "hmn",
          "be",
          "yo",
          "ko",
          "st",
          "lv",
          "kk",
          "ku",
          "is",
          "sm",
          "az",
          "so",
          "ig",
          "hr",
          "ky",
          "ceb",
          "sq",
          "iw",
          "th",
          "bs",
          "ha",
          "eo",
          "uz",
          "ga",
          "eu",
          "ms",
          "xh",
          "mk",
          "ny",
          "su",
          "sl",
          "ro",
          "fil",
          "sk",
          "mg",
          "fa",
          "ht",
          "ar",
          "co",
          "hi",
          "uk",
          "sr",
          "lt",
          "gd",
          "fi",
          "et",
          "cy",
          "zu",
          "jv",
          "sn",
          "mt",
          "hu",
          "id",
          "tr",
          "cs",
          "el",
          "ca",
          "gl",
          "sv",
          "bg",
          "vi",
          "fy",
          "lb",
          "pl",
          "da",
          "la",
          "af",
          "pt",
          "no",
          "nl",
          "zh",
          "it",
          "ja",
          "es",
          "ru",
          "de",
          "fr",
          "nolang",
          "en"
         ],
         "yaxis": "y"
        },
        {
         "orientation": "h",
         "type": "bar",
         "x": [
          1,
          1,
          1,
          1,
          1,
          1,
          1,
          1,
          1,
          1,
          1,
          1,
          1,
          2,
          2,
          2,
          3,
          3,
          3,
          4,
          7,
          7,
          8,
          9,
          10,
          10,
          10,
          12,
          16,
          17,
          20,
          21,
          21,
          22,
          27,
          28,
          31,
          33,
          34,
          34,
          39,
          39,
          46,
          47,
          60,
          68,
          76,
          110,
          133,
          159,
          202,
          233,
          356,
          427,
          450,
          550,
          589,
          9458
         ],
         "xaxis": "x2",
         "y": [
          "la",
          "kn",
          "is",
          "fy",
          "sq",
          "ur",
          "ka",
          "bs",
          "et",
          "te",
          "hi",
          "az",
          "ba",
          "bn",
          "gl",
          "mk",
          "oc",
          "war",
          "lv",
          "hr",
          "sh",
          "eo",
          "sl",
          "sr",
          "lt",
          "ms",
          "ko",
          "he",
          "ro",
          "sk",
          "th",
          "ceb",
          "bg",
          "ca",
          "da",
          "uk",
          "fi",
          "ar",
          "el",
          "fa",
          "tr",
          "hu",
          "no",
          "id",
          "sv",
          "cs",
          "vi",
          "pl",
          "nl",
          "pt",
          "zh",
          "it",
          "ja",
          "es",
          "ru",
          "fr",
          "de",
          "en"
         ],
         "yaxis": "y2"
        }
       ],
       "layout": {
        "annotations": [
         {
          "font": {
           "size": 16
          },
          "showarrow": false,
          "text": "Dataset Language",
          "x": 0.5,
          "xanchor": "center",
          "xref": "paper",
          "y": 1,
          "yanchor": "bottom",
          "yref": "paper"
         },
         {
          "font": {
           "size": 16
          },
          "showarrow": false,
          "text": "Language Detected",
          "x": 0.5,
          "xanchor": "center",
          "xref": "paper",
          "y": 0.485,
          "yanchor": "bottom",
          "yref": "paper"
         }
        ],
        "height": 800,
        "template": {
         "data": {
          "bar": [
           {
            "error_x": {
             "color": "#2a3f5f"
            },
            "error_y": {
             "color": "#2a3f5f"
            },
            "marker": {
             "line": {
              "color": "#E5ECF6",
              "width": 0.5
             },
             "pattern": {
              "fillmode": "overlay",
              "size": 10,
              "solidity": 0.2
             }
            },
            "type": "bar"
           }
          ],
          "barpolar": [
           {
            "marker": {
             "line": {
              "color": "#E5ECF6",
              "width": 0.5
             },
             "pattern": {
              "fillmode": "overlay",
              "size": 10,
              "solidity": 0.2
             }
            },
            "type": "barpolar"
           }
          ],
          "carpet": [
           {
            "aaxis": {
             "endlinecolor": "#2a3f5f",
             "gridcolor": "white",
             "linecolor": "white",
             "minorgridcolor": "white",
             "startlinecolor": "#2a3f5f"
            },
            "baxis": {
             "endlinecolor": "#2a3f5f",
             "gridcolor": "white",
             "linecolor": "white",
             "minorgridcolor": "white",
             "startlinecolor": "#2a3f5f"
            },
            "type": "carpet"
           }
          ],
          "choropleth": [
           {
            "colorbar": {
             "outlinewidth": 0,
             "ticks": ""
            },
            "type": "choropleth"
           }
          ],
          "contour": [
           {
            "colorbar": {
             "outlinewidth": 0,
             "ticks": ""
            },
            "colorscale": [
             [
              0,
              "#0d0887"
             ],
             [
              0.1111111111111111,
              "#46039f"
             ],
             [
              0.2222222222222222,
              "#7201a8"
             ],
             [
              0.3333333333333333,
              "#9c179e"
             ],
             [
              0.4444444444444444,
              "#bd3786"
             ],
             [
              0.5555555555555556,
              "#d8576b"
             ],
             [
              0.6666666666666666,
              "#ed7953"
             ],
             [
              0.7777777777777778,
              "#fb9f3a"
             ],
             [
              0.8888888888888888,
              "#fdca26"
             ],
             [
              1,
              "#f0f921"
             ]
            ],
            "type": "contour"
           }
          ],
          "contourcarpet": [
           {
            "colorbar": {
             "outlinewidth": 0,
             "ticks": ""
            },
            "type": "contourcarpet"
           }
          ],
          "heatmap": [
           {
            "colorbar": {
             "outlinewidth": 0,
             "ticks": ""
            },
            "colorscale": [
             [
              0,
              "#0d0887"
             ],
             [
              0.1111111111111111,
              "#46039f"
             ],
             [
              0.2222222222222222,
              "#7201a8"
             ],
             [
              0.3333333333333333,
              "#9c179e"
             ],
             [
              0.4444444444444444,
              "#bd3786"
             ],
             [
              0.5555555555555556,
              "#d8576b"
             ],
             [
              0.6666666666666666,
              "#ed7953"
             ],
             [
              0.7777777777777778,
              "#fb9f3a"
             ],
             [
              0.8888888888888888,
              "#fdca26"
             ],
             [
              1,
              "#f0f921"
             ]
            ],
            "type": "heatmap"
           }
          ],
          "heatmapgl": [
           {
            "colorbar": {
             "outlinewidth": 0,
             "ticks": ""
            },
            "colorscale": [
             [
              0,
              "#0d0887"
             ],
             [
              0.1111111111111111,
              "#46039f"
             ],
             [
              0.2222222222222222,
              "#7201a8"
             ],
             [
              0.3333333333333333,
              "#9c179e"
             ],
             [
              0.4444444444444444,
              "#bd3786"
             ],
             [
              0.5555555555555556,
              "#d8576b"
             ],
             [
              0.6666666666666666,
              "#ed7953"
             ],
             [
              0.7777777777777778,
              "#fb9f3a"
             ],
             [
              0.8888888888888888,
              "#fdca26"
             ],
             [
              1,
              "#f0f921"
             ]
            ],
            "type": "heatmapgl"
           }
          ],
          "histogram": [
           {
            "marker": {
             "pattern": {
              "fillmode": "overlay",
              "size": 10,
              "solidity": 0.2
             }
            },
            "type": "histogram"
           }
          ],
          "histogram2d": [
           {
            "colorbar": {
             "outlinewidth": 0,
             "ticks": ""
            },
            "colorscale": [
             [
              0,
              "#0d0887"
             ],
             [
              0.1111111111111111,
              "#46039f"
             ],
             [
              0.2222222222222222,
              "#7201a8"
             ],
             [
              0.3333333333333333,
              "#9c179e"
             ],
             [
              0.4444444444444444,
              "#bd3786"
             ],
             [
              0.5555555555555556,
              "#d8576b"
             ],
             [
              0.6666666666666666,
              "#ed7953"
             ],
             [
              0.7777777777777778,
              "#fb9f3a"
             ],
             [
              0.8888888888888888,
              "#fdca26"
             ],
             [
              1,
              "#f0f921"
             ]
            ],
            "type": "histogram2d"
           }
          ],
          "histogram2dcontour": [
           {
            "colorbar": {
             "outlinewidth": 0,
             "ticks": ""
            },
            "colorscale": [
             [
              0,
              "#0d0887"
             ],
             [
              0.1111111111111111,
              "#46039f"
             ],
             [
              0.2222222222222222,
              "#7201a8"
             ],
             [
              0.3333333333333333,
              "#9c179e"
             ],
             [
              0.4444444444444444,
              "#bd3786"
             ],
             [
              0.5555555555555556,
              "#d8576b"
             ],
             [
              0.6666666666666666,
              "#ed7953"
             ],
             [
              0.7777777777777778,
              "#fb9f3a"
             ],
             [
              0.8888888888888888,
              "#fdca26"
             ],
             [
              1,
              "#f0f921"
             ]
            ],
            "type": "histogram2dcontour"
           }
          ],
          "mesh3d": [
           {
            "colorbar": {
             "outlinewidth": 0,
             "ticks": ""
            },
            "type": "mesh3d"
           }
          ],
          "parcoords": [
           {
            "line": {
             "colorbar": {
              "outlinewidth": 0,
              "ticks": ""
             }
            },
            "type": "parcoords"
           }
          ],
          "pie": [
           {
            "automargin": true,
            "type": "pie"
           }
          ],
          "scatter": [
           {
            "fillpattern": {
             "fillmode": "overlay",
             "size": 10,
             "solidity": 0.2
            },
            "type": "scatter"
           }
          ],
          "scatter3d": [
           {
            "line": {
             "colorbar": {
              "outlinewidth": 0,
              "ticks": ""
             }
            },
            "marker": {
             "colorbar": {
              "outlinewidth": 0,
              "ticks": ""
             }
            },
            "type": "scatter3d"
           }
          ],
          "scattercarpet": [
           {
            "marker": {
             "colorbar": {
              "outlinewidth": 0,
              "ticks": ""
             }
            },
            "type": "scattercarpet"
           }
          ],
          "scattergeo": [
           {
            "marker": {
             "colorbar": {
              "outlinewidth": 0,
              "ticks": ""
             }
            },
            "type": "scattergeo"
           }
          ],
          "scattergl": [
           {
            "marker": {
             "colorbar": {
              "outlinewidth": 0,
              "ticks": ""
             }
            },
            "type": "scattergl"
           }
          ],
          "scattermapbox": [
           {
            "marker": {
             "colorbar": {
              "outlinewidth": 0,
              "ticks": ""
             }
            },
            "type": "scattermapbox"
           }
          ],
          "scatterpolar": [
           {
            "marker": {
             "colorbar": {
              "outlinewidth": 0,
              "ticks": ""
             }
            },
            "type": "scatterpolar"
           }
          ],
          "scatterpolargl": [
           {
            "marker": {
             "colorbar": {
              "outlinewidth": 0,
              "ticks": ""
             }
            },
            "type": "scatterpolargl"
           }
          ],
          "scatterternary": [
           {
            "marker": {
             "colorbar": {
              "outlinewidth": 0,
              "ticks": ""
             }
            },
            "type": "scatterternary"
           }
          ],
          "surface": [
           {
            "colorbar": {
             "outlinewidth": 0,
             "ticks": ""
            },
            "colorscale": [
             [
              0,
              "#0d0887"
             ],
             [
              0.1111111111111111,
              "#46039f"
             ],
             [
              0.2222222222222222,
              "#7201a8"
             ],
             [
              0.3333333333333333,
              "#9c179e"
             ],
             [
              0.4444444444444444,
              "#bd3786"
             ],
             [
              0.5555555555555556,
              "#d8576b"
             ],
             [
              0.6666666666666666,
              "#ed7953"
             ],
             [
              0.7777777777777778,
              "#fb9f3a"
             ],
             [
              0.8888888888888888,
              "#fdca26"
             ],
             [
              1,
              "#f0f921"
             ]
            ],
            "type": "surface"
           }
          ],
          "table": [
           {
            "cells": {
             "fill": {
              "color": "#EBF0F8"
             },
             "line": {
              "color": "white"
             }
            },
            "header": {
             "fill": {
              "color": "#C8D4E3"
             },
             "line": {
              "color": "white"
             }
            },
            "type": "table"
           }
          ]
         },
         "layout": {
          "annotationdefaults": {
           "arrowcolor": "#2a3f5f",
           "arrowhead": 0,
           "arrowwidth": 1
          },
          "autotypenumbers": "strict",
          "coloraxis": {
           "colorbar": {
            "outlinewidth": 0,
            "ticks": ""
           }
          },
          "colorscale": {
           "diverging": [
            [
             0,
             "#8e0152"
            ],
            [
             0.1,
             "#c51b7d"
            ],
            [
             0.2,
             "#de77ae"
            ],
            [
             0.3,
             "#f1b6da"
            ],
            [
             0.4,
             "#fde0ef"
            ],
            [
             0.5,
             "#f7f7f7"
            ],
            [
             0.6,
             "#e6f5d0"
            ],
            [
             0.7,
             "#b8e186"
            ],
            [
             0.8,
             "#7fbc41"
            ],
            [
             0.9,
             "#4d9221"
            ],
            [
             1,
             "#276419"
            ]
           ],
           "sequential": [
            [
             0,
             "#0d0887"
            ],
            [
             0.1111111111111111,
             "#46039f"
            ],
            [
             0.2222222222222222,
             "#7201a8"
            ],
            [
             0.3333333333333333,
             "#9c179e"
            ],
            [
             0.4444444444444444,
             "#bd3786"
            ],
            [
             0.5555555555555556,
             "#d8576b"
            ],
            [
             0.6666666666666666,
             "#ed7953"
            ],
            [
             0.7777777777777778,
             "#fb9f3a"
            ],
            [
             0.8888888888888888,
             "#fdca26"
            ],
            [
             1,
             "#f0f921"
            ]
           ],
           "sequentialminus": [
            [
             0,
             "#0d0887"
            ],
            [
             0.1111111111111111,
             "#46039f"
            ],
            [
             0.2222222222222222,
             "#7201a8"
            ],
            [
             0.3333333333333333,
             "#9c179e"
            ],
            [
             0.4444444444444444,
             "#bd3786"
            ],
            [
             0.5555555555555556,
             "#d8576b"
            ],
            [
             0.6666666666666666,
             "#ed7953"
            ],
            [
             0.7777777777777778,
             "#fb9f3a"
            ],
            [
             0.8888888888888888,
             "#fdca26"
            ],
            [
             1,
             "#f0f921"
            ]
           ]
          },
          "colorway": [
           "#636efa",
           "#EF553B",
           "#00cc96",
           "#ab63fa",
           "#FFA15A",
           "#19d3f3",
           "#FF6692",
           "#B6E880",
           "#FF97FF",
           "#FECB52"
          ],
          "font": {
           "color": "#2a3f5f"
          },
          "geo": {
           "bgcolor": "white",
           "lakecolor": "white",
           "landcolor": "#E5ECF6",
           "showlakes": true,
           "showland": true,
           "subunitcolor": "white"
          },
          "hoverlabel": {
           "align": "left"
          },
          "hovermode": "closest",
          "mapbox": {
           "style": "light"
          },
          "paper_bgcolor": "white",
          "plot_bgcolor": "#E5ECF6",
          "polar": {
           "angularaxis": {
            "gridcolor": "white",
            "linecolor": "white",
            "ticks": ""
           },
           "bgcolor": "#E5ECF6",
           "radialaxis": {
            "gridcolor": "white",
            "linecolor": "white",
            "ticks": ""
           }
          },
          "scene": {
           "xaxis": {
            "backgroundcolor": "#E5ECF6",
            "gridcolor": "white",
            "gridwidth": 2,
            "linecolor": "white",
            "showbackground": true,
            "ticks": "",
            "zerolinecolor": "white"
           },
           "yaxis": {
            "backgroundcolor": "#E5ECF6",
            "gridcolor": "white",
            "gridwidth": 2,
            "linecolor": "white",
            "showbackground": true,
            "ticks": "",
            "zerolinecolor": "white"
           },
           "zaxis": {
            "backgroundcolor": "#E5ECF6",
            "gridcolor": "white",
            "gridwidth": 2,
            "linecolor": "white",
            "showbackground": true,
            "ticks": "",
            "zerolinecolor": "white"
           }
          },
          "shapedefaults": {
           "line": {
            "color": "#2a3f5f"
           }
          },
          "ternary": {
           "aaxis": {
            "gridcolor": "white",
            "linecolor": "white",
            "ticks": ""
           },
           "baxis": {
            "gridcolor": "white",
            "linecolor": "white",
            "ticks": ""
           },
           "bgcolor": "#E5ECF6",
           "caxis": {
            "gridcolor": "white",
            "linecolor": "white",
            "ticks": ""
           }
          },
          "title": {
           "x": 0.05
          },
          "xaxis": {
           "automargin": true,
           "gridcolor": "white",
           "linecolor": "white",
           "ticks": "",
           "title": {
            "standoff": 15
           },
           "zerolinecolor": "white",
           "zerolinewidth": 2
          },
          "yaxis": {
           "automargin": true,
           "gridcolor": "white",
           "linecolor": "white",
           "ticks": "",
           "title": {
            "standoff": 15
           },
           "zerolinecolor": "white",
           "zerolinewidth": 2
          }
         }
        },
        "title": {
         "text": "Side By Side Subplots"
        },
        "width": 1000,
        "xaxis": {
         "anchor": "y",
         "domain": [
          0,
          1
         ],
         "matches": "x2",
         "showticklabels": false
        },
        "xaxis2": {
         "anchor": "y2",
         "domain": [
          0,
          1
         ]
        },
        "yaxis": {
         "anchor": "x",
         "domain": [
          0.515,
          1
         ]
        },
        "yaxis2": {
         "anchor": "x2",
         "domain": [
          0,
          0.485
         ]
        }
       }
      }
     },
     "metadata": {},
     "output_type": "display_data"
    }
   ],
   "source": [
    "from plotly.subplots import make_subplots\n",
    "import plotly.graph_objects as go\n",
    "\n",
    "fig = make_subplots(\n",
    "                    rows=2, cols=1,\n",
    "                    shared_xaxes=True,\n",
    "                    vertical_spacing=0.03,\n",
    "                    subplot_titles=(\"Dataset Language\", \"Language Detected\")\n",
    "                    )\n",
    "\n",
    "fig.add_trace(\n",
    "    go.Bar(\n",
    "        x=df_train['LANGUAGE'].value_counts().sort('count', descending=False)['count'].to_list(), \n",
    "        y=df_train['LANGUAGE'].value_counts().sort('count', descending=False)['LANGUAGE'].to_list(),\n",
    "        orientation='h'\n",
    "        ),\n",
    "    row=1, col=1\n",
    ")\n",
    "\n",
    "fig.add_trace(\n",
    "    go.Bar(\n",
    "        x=df_train['lang_detected'].value_counts().sort('count', descending=False)['count'].to_list(), \n",
    "        y=df_train['lang_detected'].value_counts().sort('count', descending=False)['lang_detected'].to_list(),\n",
    "        orientation='h'\n",
    "        ),\n",
    "    row=2, col=1\n",
    ")\n",
    "\n",
    "fig.update_layout(height=800, width=1000, title_text=\"Side By Side Subplots\")\n",
    "fig.show()"
   ]
  },
  {
   "cell_type": "code",
   "execution_count": 87,
   "metadata": {},
   "outputs": [
    {
     "data": {
      "text/html": [
       "<div><style>\n",
       ".dataframe > thead > tr,\n",
       ".dataframe > tbody > tr {\n",
       "  text-align: right;\n",
       "  white-space: pre-wrap;\n",
       "}\n",
       "</style>\n",
       "<small>shape: (7_828, 3)</small><table border=\"1\" class=\"dataframe\"><thead><tr><th>LANGUAGE</th><th>lang_detected</th><th>caption</th></tr><tr><td>str</td><td>str</td><td>str</td></tr></thead><tbody><tr><td>&quot;en&quot;</td><td>&quot;en&quot;</td><td>&quot;Page 15&quot;</td></tr><tr><td>&quot;en&quot;</td><td>&quot;en&quot;</td><td>&quot;18th century man silhouettes&quot;</td></tr><tr><td>&quot;en&quot;</td><td>&quot;en&quot;</td><td>&quot;Men&#x27;s Fanatics Branded Orange Florida Gators Personalized Basketball Pullover Hoodie 3&quot;</td></tr><tr><td>&quot;en&quot;</td><td>&quot;en&quot;</td><td>&quot;Happee Birthdae 3x4 Stamp Set&quot;</td></tr><tr><td>&quot;de&quot;</td><td>&quot;de&quot;</td><td>&quot;&quot;&quot;&quot;ND Filter - auch &quot;&quot;&quot;&quot;Sonnenbrille für das Objektiv&quot;&quot;&quot;&quot; genannt&quot;&quot;&quot;&quot;</td></tr><tr><td>&hellip;</td><td>&hellip;</td><td>&hellip;</td></tr><tr><td>&quot;en&quot;</td><td>&quot;en&quot;</td><td>&quot;Mini Skirts for Fall Under $50 &amp; On Mondays We Link Up by popular Chicago fashion blog, Glass of Glam: image of a woman wearing a fall mini skirt.&quot;</td></tr><tr><td>&quot;es&quot;</td><td>&quot;es&quot;</td><td>&quot;Villa a la venta en la Cala de la Granadella con vistas al mar - Javea - Costa Blanca&quot;</td></tr><tr><td>&quot;en&quot;</td><td>&quot;en&quot;</td><td>&quot;From Dusk Till Dawn - The Trilogy (Blu-Ray) - 4&quot;</td></tr><tr><td>&quot;en&quot;</td><td>&quot;en&quot;</td><td>&quot;Vintage Champion Grant Hill Jersey Medium&quot;</td></tr><tr><td>&quot;en&quot;</td><td>&quot;en&quot;</td><td>&quot;Certified Pre-Owned 2019 Chevrolet Impala LT- Leather, Sunroof, Remote Start&quot;</td></tr></tbody></table></div>"
      ],
      "text/plain": [
       "shape: (7_828, 3)\n",
       "┌──────────┬───────────────┬────────────────────────────────────────────────────────────────────────────────────────────────────────────────────────────────────────────────────┐\n",
       "│ LANGUAGE ┆ lang_detected ┆ caption                                                                                                                                            │\n",
       "│ ---      ┆ ---           ┆ ---                                                                                                                                                │\n",
       "│ str      ┆ str           ┆ str                                                                                                                                                │\n",
       "╞══════════╪═══════════════╪════════════════════════════════════════════════════════════════════════════════════════════════════════════════════════════════════════════════════╡\n",
       "│ en       ┆ en            ┆ Page 15                                                                                                                                            │\n",
       "│ en       ┆ en            ┆ 18th century man silhouettes                                                                                                                       │\n",
       "│ en       ┆ en            ┆ Men's Fanatics Branded Orange Florida Gators Personalized Basketball Pullover Hoodie 3                                                             │\n",
       "│ en       ┆ en            ┆ Happee Birthdae 3x4 Stamp Set                                                                                                                      │\n",
       "│ de       ┆ de            ┆ \"\"\"ND Filter - auch \"\"\"\"Sonnenbrille für das Objektiv\"\"\"\" genannt\"\"\"                                                                               │\n",
       "│ …        ┆ …             ┆ …                                                                                                                                                  │\n",
       "│ en       ┆ en            ┆ Mini Skirts for Fall Under $50 & On Mondays We Link Up by popular Chicago fashion blog, Glass of Glam: image of a woman wearing a fall mini skirt. │\n",
       "│ es       ┆ es            ┆ Villa a la venta en la Cala de la Granadella con vistas al mar - Javea - Costa Blanca                                                              │\n",
       "│ en       ┆ en            ┆ From Dusk Till Dawn - The Trilogy (Blu-Ray) - 4                                                                                                    │\n",
       "│ en       ┆ en            ┆ Vintage Champion Grant Hill Jersey Medium                                                                                                          │\n",
       "│ en       ┆ en            ┆ Certified Pre-Owned 2019 Chevrolet Impala LT- Leather, Sunroof, Remote Start                                                                       │\n",
       "└──────────┴───────────────┴────────────────────────────────────────────────────────────────────────────────────────────────────────────────────────────────────────────────────┘"
      ]
     },
     "execution_count": 87,
     "metadata": {},
     "output_type": "execute_result"
    }
   ],
   "source": [
    "# Same Detected Language\n",
    "\n",
    "df_train.filter(\n",
    "    (pl.col('LANGUAGE') == pl.col('lang_detected'))\n",
    ").select(['LANGUAGE', 'lang_detected', 'caption'])"
   ]
  },
  {
   "cell_type": "code",
   "execution_count": 84,
   "metadata": {},
   "outputs": [
    {
     "data": {
      "text/html": [
       "<div><style>\n",
       ".dataframe > thead > tr,\n",
       ".dataframe > tbody > tr {\n",
       "  text-align: right;\n",
       "  white-space: pre-wrap;\n",
       "}\n",
       "</style>\n",
       "<small>shape: (3_219, 3)</small><table border=\"1\" class=\"dataframe\"><thead><tr><th>LANGUAGE</th><th>lang_detected</th><th>caption</th></tr><tr><td>str</td><td>str</td><td>str</td></tr></thead><tbody><tr><td>&quot;nolang&quot;</td><td>&quot;en&quot;</td><td>&quot;&quot;Landing Page Template namens &quot;&quot;Kids Tree Preschool&quot;&quot; #65801&quot;&quot;</td></tr><tr><td>&quot;nolang&quot;</td><td>&quot;en&quot;</td><td>&quot;Ottawa Karaoke | Karaoke Wednesday, Friday, Sunday&quot;</td></tr><tr><td>&quot;nolang&quot;</td><td>&quot;en&quot;</td><td>&quot;&quot;Untitled, 2013, wood, paint, nails, 12-3/4 x 3 x 20&quot;&quot;&quot;&quot;</td></tr><tr><td>&quot;nolang&quot;</td><td>&quot;zh&quot;</td><td>&quot;Re:[原创]【KMG】长水机场一组 1600大图 BOEING 737-700 B-2503 中国昆明长水国际机场&quot;</td></tr><tr><td>&quot;nolang&quot;</td><td>&quot;en&quot;</td><td>&quot;NUNA, 2019 MIXX&lt;sup&gt;™&lt;/sup&gt; Stroller &amp; PIPA&lt;sup&gt;™&lt;/sup&gt; Lite LX Infant Car Seat Set Travel System, Alternate thumbnail 4, color, VERONA CAVIAR&quot;</td></tr><tr><td>&hellip;</td><td>&hellip;</td><td>&hellip;</td></tr><tr><td>&quot;nolang&quot;</td><td>&quot;en&quot;</td><td>&quot;[MyGirl] Vol.012 Yu Zhu 23P, Lovely, Pure, Yu Zhu&quot;</td></tr><tr><td>&quot;nolang&quot;</td><td>&quot;en&quot;</td><td>&quot;Marvel Secret Warriors Rising Daisy Johnson MARVEL&#x27;S QUAKE Identity Doll Gift&quot;</td></tr><tr><td>&quot;nolang&quot;</td><td>&quot;en&quot;</td><td>&quot;Attorney Desk&quot;</td></tr><tr><td>&quot;nolang&quot;</td><td>&quot;en&quot;</td><td>&quot;Heart Health&quot;</td></tr><tr><td>&quot;nolang&quot;</td><td>&quot;nl&quot;</td><td>&quot;weddingblogmannring-151.jpg&quot;</td></tr></tbody></table></div>"
      ],
      "text/plain": [
       "shape: (3_219, 3)\n",
       "┌──────────┬───────────────┬────────────────────────────────────────────────────────────────────────────────────────────────────────────────────────────────────────────────┐\n",
       "│ LANGUAGE ┆ lang_detected ┆ caption                                                                                                                                        │\n",
       "│ ---      ┆ ---           ┆ ---                                                                                                                                            │\n",
       "│ str      ┆ str           ┆ str                                                                                                                                            │\n",
       "╞══════════╪═══════════════╪════════════════════════════════════════════════════════════════════════════════════════════════════════════════════════════════════════════════╡\n",
       "│ nolang   ┆ en            ┆ \"Landing Page Template namens \"\"Kids Tree Preschool\"\" #65801\"                                                                                  │\n",
       "│ nolang   ┆ en            ┆ Ottawa Karaoke | Karaoke Wednesday, Friday, Sunday                                                                                             │\n",
       "│ nolang   ┆ en            ┆ \"Untitled, 2013, wood, paint, nails, 12-3/4 x 3 x 20\"\"\"                                                                                        │\n",
       "│ nolang   ┆ zh            ┆ Re:[原创]【KMG】长水机场一组 1600大图 BOEING 737-700 B-2503 中国昆明长水国际机场                                                               │\n",
       "│ nolang   ┆ en            ┆ NUNA, 2019 MIXX<sup>™</sup> Stroller & PIPA<sup>™</sup> Lite LX Infant Car Seat Set Travel System, Alternate thumbnail 4, color, VERONA CAVIAR │\n",
       "│ …        ┆ …             ┆ …                                                                                                                                              │\n",
       "│ nolang   ┆ en            ┆ [MyGirl] Vol.012 Yu Zhu 23P, Lovely, Pure, Yu Zhu                                                                                              │\n",
       "│ nolang   ┆ en            ┆ Marvel Secret Warriors Rising Daisy Johnson MARVEL'S QUAKE Identity Doll Gift                                                                  │\n",
       "│ nolang   ┆ en            ┆ Attorney Desk                                                                                                                                  │\n",
       "│ nolang   ┆ en            ┆ Heart Health                                                                                                                                   │\n",
       "│ nolang   ┆ nl            ┆ weddingblogmannring-151.jpg                                                                                                                    │\n",
       "└──────────┴───────────────┴────────────────────────────────────────────────────────────────────────────────────────────────────────────────────────────────────────────────┘"
      ]
     },
     "execution_count": 84,
     "metadata": {},
     "output_type": "execute_result"
    }
   ],
   "source": [
    "# Only Detected Language\n",
    "\n",
    "df_train.filter(\n",
    "    (pl.col('LANGUAGE') == \"nolang\")\n",
    ").select(['LANGUAGE', 'lang_detected', 'caption'])"
   ]
  },
  {
   "cell_type": "code",
   "execution_count": 89,
   "metadata": {},
   "outputs": [
    {
     "data": {
      "text/html": [
       "<div><style>\n",
       ".dataframe > thead > tr,\n",
       ".dataframe > tbody > tr {\n",
       "  text-align: right;\n",
       "  white-space: pre-wrap;\n",
       "}\n",
       "</style>\n",
       "<small>shape: (2_404, 3)</small><table border=\"1\" class=\"dataframe\"><thead><tr><th>LANGUAGE</th><th>lang_detected</th><th>caption</th></tr><tr><td>str</td><td>str</td><td>str</td></tr></thead><tbody><tr><td>&quot;sw&quot;</td><td>&quot;fr&quot;</td><td>&quot;Odisha - 2 : Simlipal&quot;</td></tr><tr><td>&quot;lt&quot;</td><td>&quot;es&quot;</td><td>&quot;¡Ánimo juventud! (2020) 1080p WEB-DL Latino&quot;</td></tr><tr><td>&quot;fil&quot;</td><td>&quot;en&quot;</td><td>&quot;Espinosa Crema No. 4 Robusto Cigars - 5.5 x 52 (Pack of 5)&quot;</td></tr><tr><td>&quot;lb&quot;</td><td>&quot;de&quot;</td><td>&quot;3D Stadt New York 433 Rutschfest Büro Schreibtisch Schreibtisch Schreibtisch Mauspad Tastatur Spiel e136a0&quot;</td></tr><tr><td>&quot;ca&quot;</td><td>&quot;zh&quot;</td><td>&quot;T-SHIRT - 300 REC&quot;</td></tr><tr><td>&hellip;</td><td>&hellip;</td><td>&hellip;</td></tr><tr><td>&quot;bg&quot;</td><td>&quot;en&quot;</td><td>&quot;Audi RS 3&quot;</td></tr><tr><td>&quot;en&quot;</td><td>&quot;es&quot;</td><td>&quot;Infactory Blacklight-esmalte de uñas con Glow-in-the-dark-efecto: Amazon.es: Belleza&quot;</td></tr><tr><td>&quot;it&quot;</td><td>&quot;en&quot;</td><td>&quot;Lamborghini Gallardo by Cosa Design&quot;</td></tr><tr><td>&quot;ja&quot;</td><td>&quot;es&quot;</td><td>&quot;SOFABAB&quot;</td></tr><tr><td>&quot;ja&quot;</td><td>&quot;es&quot;</td><td>&quot;SOFABAB&quot;</td></tr></tbody></table></div>"
      ],
      "text/plain": [
       "shape: (2_404, 3)\n",
       "┌──────────┬───────────────┬────────────────────────────────────────────────────────────────────────────────────────────────────────────┐\n",
       "│ LANGUAGE ┆ lang_detected ┆ caption                                                                                                    │\n",
       "│ ---      ┆ ---           ┆ ---                                                                                                        │\n",
       "│ str      ┆ str           ┆ str                                                                                                        │\n",
       "╞══════════╪═══════════════╪════════════════════════════════════════════════════════════════════════════════════════════════════════════╡\n",
       "│ sw       ┆ fr            ┆ Odisha - 2 : Simlipal                                                                                      │\n",
       "│ lt       ┆ es            ┆ ¡Ánimo juventud! (2020) 1080p WEB-DL Latino                                                                │\n",
       "│ fil      ┆ en            ┆ Espinosa Crema No. 4 Robusto Cigars - 5.5 x 52 (Pack of 5)                                                 │\n",
       "│ lb       ┆ de            ┆ 3D Stadt New York 433 Rutschfest Büro Schreibtisch Schreibtisch Schreibtisch Mauspad Tastatur Spiel e136a0 │\n",
       "│ ca       ┆ zh            ┆ T-SHIRT - 300 REC                                                                                          │\n",
       "│ …        ┆ …             ┆ …                                                                                                          │\n",
       "│ bg       ┆ en            ┆ Audi RS 3                                                                                                  │\n",
       "│ en       ┆ es            ┆ Infactory Blacklight-esmalte de uñas con Glow-in-the-dark-efecto: Amazon.es: Belleza                       │\n",
       "│ it       ┆ en            ┆ Lamborghini Gallardo by Cosa Design                                                                        │\n",
       "│ ja       ┆ es            ┆ SOFABAB                                                                                                    │\n",
       "│ ja       ┆ es            ┆ SOFABAB                                                                                                    │\n",
       "└──────────┴───────────────┴────────────────────────────────────────────────────────────────────────────────────────────────────────────┘"
      ]
     },
     "execution_count": 89,
     "metadata": {},
     "output_type": "execute_result"
    }
   ],
   "source": [
    "# Different Detected Language\n",
    "\n",
    "df_train.filter(\n",
    "    (pl.col('LANGUAGE') != \"nolang\")\n",
    "    & (pl.col('LANGUAGE') != pl.col('lang_detected'))\n",
    ").select(['LANGUAGE', 'lang_detected', 'caption'])"
   ]
  },
  {
   "cell_type": "code",
   "execution_count": 90,
   "metadata": {},
   "outputs": [
    {
     "data": {
      "text/html": [
       "<div><style>\n",
       ".dataframe > thead > tr,\n",
       ".dataframe > tbody > tr {\n",
       "  text-align: right;\n",
       "  white-space: pre-wrap;\n",
       "}\n",
       "</style>\n",
       "<small>shape: (2, 2)</small><table border=\"1\" class=\"dataframe\"><thead><tr><th>is_english</th><th>count</th></tr><tr><td>bool</td><td>u32</td></tr></thead><tbody><tr><td>false</td><td>3993</td></tr><tr><td>true</td><td>9458</td></tr></tbody></table></div>"
      ],
      "text/plain": [
       "shape: (2, 2)\n",
       "┌────────────┬───────┐\n",
       "│ is_english ┆ count │\n",
       "│ ---        ┆ ---   │\n",
       "│ bool       ┆ u32   │\n",
       "╞════════════╪═══════╡\n",
       "│ false      ┆ 3993  │\n",
       "│ true       ┆ 9458  │\n",
       "└────────────┴───────┘"
      ]
     },
     "execution_count": 90,
     "metadata": {},
     "output_type": "execute_result"
    }
   ],
   "source": [
    "df_train['is_english'].value_counts()   "
   ]
  },
  {
   "cell_type": "code",
   "execution_count": 94,
   "metadata": {},
   "outputs": [
    {
     "data": {
      "text/html": [
       "<div><style>\n",
       ".dataframe > thead > tr,\n",
       ".dataframe > tbody > tr {\n",
       "  text-align: right;\n",
       "  white-space: pre-wrap;\n",
       "}\n",
       "</style>\n",
       "<small>shape: (5_645, 3)</small><table border=\"1\" class=\"dataframe\"><thead><tr><th>LANGUAGE</th><th>lang_detected</th><th>caption</th></tr><tr><td>str</td><td>str</td><td>str</td></tr></thead><tbody><tr><td>&quot;en&quot;</td><td>&quot;en&quot;</td><td>&quot;Page 15&quot;</td></tr><tr><td>&quot;en&quot;</td><td>&quot;en&quot;</td><td>&quot;18th century man silhouettes&quot;</td></tr><tr><td>&quot;en&quot;</td><td>&quot;en&quot;</td><td>&quot;Men&#x27;s Fanatics Branded Orange Florida Gators Personalized Basketball Pullover Hoodie 3&quot;</td></tr><tr><td>&quot;en&quot;</td><td>&quot;en&quot;</td><td>&quot;Happee Birthdae 3x4 Stamp Set&quot;</td></tr><tr><td>&quot;en&quot;</td><td>&quot;en&quot;</td><td>&quot;308/4 Honeysuckle Drive, Newcastle&quot;</td></tr><tr><td>&hellip;</td><td>&hellip;</td><td>&hellip;</td></tr><tr><td>&quot;en&quot;</td><td>&quot;en&quot;</td><td>&quot;Nfl Atlanta Falcons Nike Champ Drive Sideline Full Zip Jacket Black Zip Jackets Jackets Stylish Jackets&quot;</td></tr><tr><td>&quot;en&quot;</td><td>&quot;en&quot;</td><td>&quot;Mini Skirts for Fall Under $50 &amp; On Mondays We Link Up by popular Chicago fashion blog, Glass of Glam: image of a woman wearing a fall mini skirt.&quot;</td></tr><tr><td>&quot;en&quot;</td><td>&quot;en&quot;</td><td>&quot;From Dusk Till Dawn - The Trilogy (Blu-Ray) - 4&quot;</td></tr><tr><td>&quot;en&quot;</td><td>&quot;en&quot;</td><td>&quot;Vintage Champion Grant Hill Jersey Medium&quot;</td></tr><tr><td>&quot;en&quot;</td><td>&quot;en&quot;</td><td>&quot;Certified Pre-Owned 2019 Chevrolet Impala LT- Leather, Sunroof, Remote Start&quot;</td></tr></tbody></table></div>"
      ],
      "text/plain": [
       "shape: (5_645, 3)\n",
       "┌──────────┬───────────────┬────────────────────────────────────────────────────────────────────────────────────────────────────────────────────────────────────────────────────┐\n",
       "│ LANGUAGE ┆ lang_detected ┆ caption                                                                                                                                            │\n",
       "│ ---      ┆ ---           ┆ ---                                                                                                                                                │\n",
       "│ str      ┆ str           ┆ str                                                                                                                                                │\n",
       "╞══════════╪═══════════════╪════════════════════════════════════════════════════════════════════════════════════════════════════════════════════════════════════════════════════╡\n",
       "│ en       ┆ en            ┆ Page 15                                                                                                                                            │\n",
       "│ en       ┆ en            ┆ 18th century man silhouettes                                                                                                                       │\n",
       "│ en       ┆ en            ┆ Men's Fanatics Branded Orange Florida Gators Personalized Basketball Pullover Hoodie 3                                                             │\n",
       "│ en       ┆ en            ┆ Happee Birthdae 3x4 Stamp Set                                                                                                                      │\n",
       "│ en       ┆ en            ┆ 308/4 Honeysuckle Drive, Newcastle                                                                                                                 │\n",
       "│ …        ┆ …             ┆ …                                                                                                                                                  │\n",
       "│ en       ┆ en            ┆ Nfl Atlanta Falcons Nike Champ Drive Sideline Full Zip Jacket Black Zip Jackets Jackets Stylish Jackets                                            │\n",
       "│ en       ┆ en            ┆ Mini Skirts for Fall Under $50 & On Mondays We Link Up by popular Chicago fashion blog, Glass of Glam: image of a woman wearing a fall mini skirt. │\n",
       "│ en       ┆ en            ┆ From Dusk Till Dawn - The Trilogy (Blu-Ray) - 4                                                                                                    │\n",
       "│ en       ┆ en            ┆ Vintage Champion Grant Hill Jersey Medium                                                                                                          │\n",
       "│ en       ┆ en            ┆ Certified Pre-Owned 2019 Chevrolet Impala LT- Leather, Sunroof, Remote Start                                                                       │\n",
       "└──────────┴───────────────┴────────────────────────────────────────────────────────────────────────────────────────────────────────────────────────────────────────────────────┘"
      ]
     },
     "execution_count": 94,
     "metadata": {},
     "output_type": "execute_result"
    }
   ],
   "source": [
    "# English Captions\n",
    "\n",
    "df_train.filter(\n",
    "    (pl.col('LANGUAGE') == 'en')\n",
    "    & (pl.col('lang_detected') == 'en')\n",
    ")['LANGUAGE', 'lang_detected', 'caption']"
   ]
  },
  {
   "cell_type": "code",
   "execution_count": 95,
   "metadata": {},
   "outputs": [
    {
     "data": {
      "text/html": [
       "<div><style>\n",
       ".dataframe > thead > tr,\n",
       ".dataframe > tbody > tr {\n",
       "  text-align: right;\n",
       "  white-space: pre-wrap;\n",
       "}\n",
       "</style>\n",
       "<small>shape: (3_813, 3)</small><table border=\"1\" class=\"dataframe\"><thead><tr><th>LANGUAGE</th><th>lang_detected</th><th>caption</th></tr><tr><td>str</td><td>str</td><td>str</td></tr></thead><tbody><tr><td>&quot;nolang&quot;</td><td>&quot;en&quot;</td><td>&quot;&quot;Landing Page Template namens &quot;&quot;Kids Tree Preschool&quot;&quot; #65801&quot;&quot;</td></tr><tr><td>&quot;nolang&quot;</td><td>&quot;en&quot;</td><td>&quot;Ottawa Karaoke | Karaoke Wednesday, Friday, Sunday&quot;</td></tr><tr><td>&quot;nolang&quot;</td><td>&quot;en&quot;</td><td>&quot;&quot;Untitled, 2013, wood, paint, nails, 12-3/4 x 3 x 20&quot;&quot;&quot;&quot;</td></tr><tr><td>&quot;fil&quot;</td><td>&quot;en&quot;</td><td>&quot;Espinosa Crema No. 4 Robusto Cigars - 5.5 x 52 (Pack of 5)&quot;</td></tr><tr><td>&quot;nolang&quot;</td><td>&quot;en&quot;</td><td>&quot;NUNA, 2019 MIXX&lt;sup&gt;™&lt;/sup&gt; Stroller &amp; PIPA&lt;sup&gt;™&lt;/sup&gt; Lite LX Infant Car Seat Set Travel System, Alternate thumbnail 4, color, VERONA CAVIAR&quot;</td></tr><tr><td>&hellip;</td><td>&hellip;</td><td>&hellip;</td></tr><tr><td>&quot;nolang&quot;</td><td>&quot;en&quot;</td><td>&quot;[MyGirl] Vol.012 Yu Zhu 23P, Lovely, Pure, Yu Zhu&quot;</td></tr><tr><td>&quot;nolang&quot;</td><td>&quot;en&quot;</td><td>&quot;Marvel Secret Warriors Rising Daisy Johnson MARVEL&#x27;S QUAKE Identity Doll Gift&quot;</td></tr><tr><td>&quot;nolang&quot;</td><td>&quot;en&quot;</td><td>&quot;Attorney Desk&quot;</td></tr><tr><td>&quot;nolang&quot;</td><td>&quot;en&quot;</td><td>&quot;Heart Health&quot;</td></tr><tr><td>&quot;it&quot;</td><td>&quot;en&quot;</td><td>&quot;Lamborghini Gallardo by Cosa Design&quot;</td></tr></tbody></table></div>"
      ],
      "text/plain": [
       "shape: (3_813, 3)\n",
       "┌──────────┬───────────────┬────────────────────────────────────────────────────────────────────────────────────────────────────────────────────────────────────────────────┐\n",
       "│ LANGUAGE ┆ lang_detected ┆ caption                                                                                                                                        │\n",
       "│ ---      ┆ ---           ┆ ---                                                                                                                                            │\n",
       "│ str      ┆ str           ┆ str                                                                                                                                            │\n",
       "╞══════════╪═══════════════╪════════════════════════════════════════════════════════════════════════════════════════════════════════════════════════════════════════════════╡\n",
       "│ nolang   ┆ en            ┆ \"Landing Page Template namens \"\"Kids Tree Preschool\"\" #65801\"                                                                                  │\n",
       "│ nolang   ┆ en            ┆ Ottawa Karaoke | Karaoke Wednesday, Friday, Sunday                                                                                             │\n",
       "│ nolang   ┆ en            ┆ \"Untitled, 2013, wood, paint, nails, 12-3/4 x 3 x 20\"\"\"                                                                                        │\n",
       "│ fil      ┆ en            ┆ Espinosa Crema No. 4 Robusto Cigars - 5.5 x 52 (Pack of 5)                                                                                     │\n",
       "│ nolang   ┆ en            ┆ NUNA, 2019 MIXX<sup>™</sup> Stroller & PIPA<sup>™</sup> Lite LX Infant Car Seat Set Travel System, Alternate thumbnail 4, color, VERONA CAVIAR │\n",
       "│ …        ┆ …             ┆ …                                                                                                                                              │\n",
       "│ nolang   ┆ en            ┆ [MyGirl] Vol.012 Yu Zhu 23P, Lovely, Pure, Yu Zhu                                                                                              │\n",
       "│ nolang   ┆ en            ┆ Marvel Secret Warriors Rising Daisy Johnson MARVEL'S QUAKE Identity Doll Gift                                                                  │\n",
       "│ nolang   ┆ en            ┆ Attorney Desk                                                                                                                                  │\n",
       "│ nolang   ┆ en            ┆ Heart Health                                                                                                                                   │\n",
       "│ it       ┆ en            ┆ Lamborghini Gallardo by Cosa Design                                                                                                            │\n",
       "└──────────┴───────────────┴────────────────────────────────────────────────────────────────────────────────────────────────────────────────────────────────────────────────┘"
      ]
     },
     "execution_count": 95,
     "metadata": {},
     "output_type": "execute_result"
    }
   ],
   "source": [
    "# Detected English Captions\n",
    "\n",
    "df_train.filter(\n",
    "    (pl.col('LANGUAGE') != 'en')\n",
    "    & (pl.col('lang_detected') == 'en')\n",
    ")['LANGUAGE', 'lang_detected', 'caption']"
   ]
  },
  {
   "cell_type": "code",
   "execution_count": 108,
   "metadata": {},
   "outputs": [
    {
     "data": {
      "text/html": [
       "<div><style>\n",
       ".dataframe > thead > tr,\n",
       ".dataframe > tbody > tr {\n",
       "  text-align: right;\n",
       "  white-space: pre-wrap;\n",
       "}\n",
       "</style>\n",
       "<small>shape: (266, 3)</small><table border=\"1\" class=\"dataframe\"><thead><tr><th>LANGUAGE</th><th>lang_detected</th><th>caption</th></tr><tr><td>str</td><td>str</td><td>str</td></tr></thead><tbody><tr><td>&quot;en&quot;</td><td>&quot;fr&quot;</td><td>&quot;fruits-oranges-tangerines&quot;</td></tr><tr><td>&quot;en&quot;</td><td>&quot;es&quot;</td><td>&quot;FACTO / 2501 CHAIR&quot;</td></tr><tr><td>&quot;en&quot;</td><td>&quot;ja&quot;</td><td>&quot;QUIRKY DAYTIME&quot;</td></tr><tr><td>&quot;en&quot;</td><td>&quot;es&quot;</td><td>&quot;AXEL DENIM JACKET.&quot;</td></tr><tr><td>&quot;en&quot;</td><td>&quot;fr&quot;</td><td>&quot;Used 2017 McLaren 570S Coupe | Greenwich, CT&quot;</td></tr><tr><td>&hellip;</td><td>&hellip;</td><td>&hellip;</td></tr><tr><td>&quot;en&quot;</td><td>&quot;es&quot;</td><td>&quot;Fondos de pantalla Dragon Age Inquisition&quot;</td></tr><tr><td>&quot;en&quot;</td><td>&quot;fr&quot;</td><td>&quot;Mini 04-07-18 © Florian Léger - SHARE &amp; DARE-199.jpg&quot;</td></tr><tr><td>&quot;en&quot;</td><td>&quot;ja&quot;</td><td>&quot;NOCONA BLACK OSTRICH LEATHER WESTERN COWBOY ROCKABILLY DANCE BOOTS SIZE 4 B&quot;</td></tr><tr><td>&quot;en&quot;</td><td>&quot;fr&quot;</td><td>&quot;Red Dead Online semaine chasseur primes&quot;</td></tr><tr><td>&quot;en&quot;</td><td>&quot;es&quot;</td><td>&quot;Infactory Blacklight-esmalte de uñas con Glow-in-the-dark-efecto: Amazon.es: Belleza&quot;</td></tr></tbody></table></div>"
      ],
      "text/plain": [
       "shape: (266, 3)\n",
       "┌──────────┬───────────────┬──────────────────────────────────────────────────────────────────────────────────────┐\n",
       "│ LANGUAGE ┆ lang_detected ┆ caption                                                                              │\n",
       "│ ---      ┆ ---           ┆ ---                                                                                  │\n",
       "│ str      ┆ str           ┆ str                                                                                  │\n",
       "╞══════════╪═══════════════╪══════════════════════════════════════════════════════════════════════════════════════╡\n",
       "│ en       ┆ fr            ┆ fruits-oranges-tangerines                                                            │\n",
       "│ en       ┆ es            ┆ FACTO / 2501 CHAIR                                                                   │\n",
       "│ en       ┆ ja            ┆ QUIRKY DAYTIME                                                                       │\n",
       "│ en       ┆ es            ┆ AXEL DENIM JACKET.                                                                   │\n",
       "│ en       ┆ fr            ┆ Used 2017 McLaren 570S Coupe | Greenwich, CT                                         │\n",
       "│ …        ┆ …             ┆ …                                                                                    │\n",
       "│ en       ┆ es            ┆ Fondos de pantalla Dragon Age Inquisition                                            │\n",
       "│ en       ┆ fr            ┆ Mini 04-07-18 © Florian Léger - SHARE & DARE-199.jpg                                 │\n",
       "│ en       ┆ ja            ┆ NOCONA BLACK OSTRICH LEATHER WESTERN COWBOY ROCKABILLY DANCE BOOTS SIZE 4 B          │\n",
       "│ en       ┆ fr            ┆ Red Dead Online semaine chasseur primes                                              │\n",
       "│ en       ┆ es            ┆ Infactory Blacklight-esmalte de uñas con Glow-in-the-dark-efecto: Amazon.es: Belleza │\n",
       "└──────────┴───────────────┴──────────────────────────────────────────────────────────────────────────────────────┘"
      ]
     },
     "execution_count": 108,
     "metadata": {},
     "output_type": "execute_result"
    }
   ],
   "source": [
    "# Detected English Captions\n",
    "\n",
    "df_train.filter(\n",
    "    (pl.col('LANGUAGE') == 'en')\n",
    "    & (pl.col('lang_detected') != 'en')\n",
    ")['LANGUAGE', 'lang_detected', 'caption']#.sample(10)"
   ]
  },
  {
   "cell_type": "code",
   "execution_count": 109,
   "metadata": {},
   "outputs": [
    {
     "data": {
      "text/html": [
       "<div><style>\n",
       ".dataframe > thead > tr,\n",
       ".dataframe > tbody > tr {\n",
       "  text-align: right;\n",
       "  white-space: pre-wrap;\n",
       "}\n",
       "</style>\n",
       "<small>shape: (3_993, 3)</small><table border=\"1\" class=\"dataframe\"><thead><tr><th>LANGUAGE</th><th>lang_detected</th><th>caption</th></tr><tr><td>str</td><td>str</td><td>str</td></tr></thead><tbody><tr><td>&quot;sw&quot;</td><td>&quot;fr&quot;</td><td>&quot;Odisha - 2 : Simlipal&quot;</td></tr><tr><td>&quot;lt&quot;</td><td>&quot;es&quot;</td><td>&quot;¡Ánimo juventud! (2020) 1080p WEB-DL Latino&quot;</td></tr><tr><td>&quot;de&quot;</td><td>&quot;de&quot;</td><td>&quot;&quot;&quot;&quot;ND Filter - auch &quot;&quot;&quot;&quot;Sonnenbrille für das Objektiv&quot;&quot;&quot;&quot; genannt&quot;&quot;&quot;&quot;</td></tr><tr><td>&quot;ko&quot;</td><td>&quot;ko&quot;</td><td>&quot;이용매뉴얼_Page_16.png&quot;</td></tr><tr><td>&quot;zh&quot;</td><td>&quot;zh&quot;</td><td>&quot;麗寶-天空之夢 - 臺中市 - 旅遊美食討論區 - Mobile01&quot;</td></tr><tr><td>&hellip;</td><td>&hellip;</td><td>&hellip;</td></tr><tr><td>&quot;es&quot;</td><td>&quot;es&quot;</td><td>&quot;Villa a la venta en la Cala de la Granadella con vistas al mar - Javea - Costa Blanca&quot;</td></tr><tr><td>&quot;en&quot;</td><td>&quot;es&quot;</td><td>&quot;Infactory Blacklight-esmalte de uñas con Glow-in-the-dark-efecto: Amazon.es: Belleza&quot;</td></tr><tr><td>&quot;nolang&quot;</td><td>&quot;nl&quot;</td><td>&quot;weddingblogmannring-151.jpg&quot;</td></tr><tr><td>&quot;ja&quot;</td><td>&quot;es&quot;</td><td>&quot;SOFABAB&quot;</td></tr><tr><td>&quot;ja&quot;</td><td>&quot;es&quot;</td><td>&quot;SOFABAB&quot;</td></tr></tbody></table></div>"
      ],
      "text/plain": [
       "shape: (3_993, 3)\n",
       "┌──────────┬───────────────┬───────────────────────────────────────────────────────────────────────────────────────┐\n",
       "│ LANGUAGE ┆ lang_detected ┆ caption                                                                               │\n",
       "│ ---      ┆ ---           ┆ ---                                                                                   │\n",
       "│ str      ┆ str           ┆ str                                                                                   │\n",
       "╞══════════╪═══════════════╪═══════════════════════════════════════════════════════════════════════════════════════╡\n",
       "│ sw       ┆ fr            ┆ Odisha - 2 : Simlipal                                                                 │\n",
       "│ lt       ┆ es            ┆ ¡Ánimo juventud! (2020) 1080p WEB-DL Latino                                           │\n",
       "│ de       ┆ de            ┆ \"\"\"ND Filter - auch \"\"\"\"Sonnenbrille für das Objektiv\"\"\"\" genannt\"\"\"                  │\n",
       "│ ko       ┆ ko            ┆ 이용매뉴얼_Page_16.png                                                                │\n",
       "│ zh       ┆ zh            ┆ 麗寶-天空之夢 - 臺中市 - 旅遊美食討論區 - Mobile01                                    │\n",
       "│ …        ┆ …             ┆ …                                                                                     │\n",
       "│ es       ┆ es            ┆ Villa a la venta en la Cala de la Granadella con vistas al mar - Javea - Costa Blanca │\n",
       "│ en       ┆ es            ┆ Infactory Blacklight-esmalte de uñas con Glow-in-the-dark-efecto: Amazon.es: Belleza  │\n",
       "│ nolang   ┆ nl            ┆ weddingblogmannring-151.jpg                                                           │\n",
       "│ ja       ┆ es            ┆ SOFABAB                                                                               │\n",
       "│ ja       ┆ es            ┆ SOFABAB                                                                               │\n",
       "└──────────┴───────────────┴───────────────────────────────────────────────────────────────────────────────────────┘"
      ]
     },
     "execution_count": 109,
     "metadata": {},
     "output_type": "execute_result"
    }
   ],
   "source": [
    "# Non English Captions\n",
    "\n",
    "df_train.filter(\n",
    " (pl.col('lang_detected') != 'en')\n",
    ")['LANGUAGE', 'lang_detected', 'caption']#.sample(10)"
   ]
  }
 ],
 "metadata": {
  "kernelspec": {
   "display_name": "fair",
   "language": "python",
   "name": "python3"
  },
  "language_info": {
   "codemirror_mode": {
    "name": "ipython",
    "version": 3
   },
   "file_extension": ".py",
   "mimetype": "text/x-python",
   "name": "python",
   "nbconvert_exporter": "python",
   "pygments_lexer": "ipython3",
   "version": "3.11.11"
  }
 },
 "nbformat": 4,
 "nbformat_minor": 2
}
